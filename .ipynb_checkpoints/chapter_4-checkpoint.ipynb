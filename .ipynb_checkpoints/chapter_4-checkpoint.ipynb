{
 "cells": [
  {
   "cell_type": "markdown",
   "metadata": {},
   "source": [
    "이 관련 포스팅은 [hand on machine learning ](http://shop.oreilly.com/product/0636920052289.do)을 참고하여 작성 했습니다"
   ]
  },
  {
   "cell_type": "markdown",
   "metadata": {},
   "source": [
    "## CHAPTER 4 \n",
    "\n",
    "# Training Models\n",
    "머신러닝에 대해 많이 알아 보았는데요 사실 training 알고리즘은 거의 블랙 박스 같아요 전에 해왔던 많은 것들이 진행과정을 알수없이 진행 했었는데요 예를 들면 최적의 회귀 시스템이나 숫자 이미지 분별 스팸 구별 등을요. 정말 많은 상황들에서 우리는 자세히 알 필요도 없이 진행 했습니다.\n",
    "\n",
    "헌데 이해를 하게되면 빠르게 적합한 모델을 찾는데에 큰 도움을 줄겁니다. 올바른 트레이닝 알고리즘을 쓰면 하이퍼 파라미터 세팅도 좋고 작업도 좋으니깐요. 원리이해는 디버깅 문제해결과 실행에러 분석을 더 효과적으로 할겁니다. 마지막으로 뉴럴네트워크를 이해하고 만들고 실행하는데에도 큰 도움을 줍니다.\n",
    "\n",
    "이번 파트는 가장 단순한 모델 중 하나인 선형회귀를 배울 건데요 두가지 다른 방법으로 실행할 겁니다.\n",
    "바로 직접적으로 최적의 모델과 트레이닝 셋을 찾는 \"closed form\"과 반복적으로 최적의 상황을 탐색하는 Gradient Descent(GD) 가 그것입니다.\n",
    "여기서 우린 GD를 나중에 배울 뉴럴 네트워크에서도 사용 할것입니다. Batch GD,Mini-batch GD, and Stochastic GD \n",
    "일단 우린 Polynomial Regression (다항식 회귀)를 배울 겁니다. 다항식 회귀는 비선형 데이터에 적합한데요,선형회귀보다 더 많은 파라미터를 가지고 있습니다.즉 오버피팅 되기 쉽다는 뜻인데요.어떻게 오버피팅을 확인하고 리스크를 줄일지 알아봅시다.\n",
    "그리고 마지막으로 대체적으로 classification에  많이 사용하는 두 모델을 더 배울겁니다. 바로 Logistic Regression 과 Softmax Regression 입니다."
   ]
  },
  {
   "cell_type": "markdown",
   "metadata": {},
   "source": [
    "챕터 1에서 삶의 만족도 단순 회귀 모델은: **life_satisfaction** = $\\theta_0 + \\theta_1 $* GDP_per_capita \n",
    "여기서 파라미터는 $\\theta_0, \\theta_1 $ 이렇게 두개가 있는데요\n",
    "선형 회귀 공식은 단순히 feature를 다 더하면 됩니다 이거를 bias term 또는 intercept term 이라고 불리우는데요 \n",
    "공식으로는 \n",
    "\n",
    "$\\hat{y} = \\theta_0 + \\theta_1x_1 + \\theta_2x_2+ .....+ \\theta_nx_n$\n",
    "\n",
    "- $\\hat{y}$ 는 예측값\n",
    "- $n$ 은 피쳐 넘버\n",
    "- $x_i$ 은 피쳐 값\n",
    "- $\\theta$ 는 $j^{th}$ 모델 파라미터 입니다"
   ]
  },
  {
   "cell_type": "markdown",
   "metadata": {},
   "source": [
    "이것을 벡터로 이용하면 공식이 \n",
    "\n",
    "- $\\hat{y} = h_\\theta(\\mathbf{x}) = \\theta^T * \\mathbf{x}$\n",
    "\n",
    "\n",
    "위에 있는 것이 선형회귀 모델입니다. 그럼 지금 어떻게 train할까요? 가장 적합이 좋은 파라미터를 가진 모델과 그모델의 평균을 세팅 해야 하는데요 여기서 목적은 첫번째로 어떻게 하면 좋고 나쁜지를 측정해야 합니다. 챕터 2에서 대개적으로 많이쓰는 측정 퍼포먼스인 Root Mean Square Error(RMSE)로 선형회귀에서 값은 낮은 $\\theta$ 값을 찾아야합니다. 여기서는 더 단순한 Mean Square Error(MSE)함수를 사용할겁니다.ROOT의 유무 차이만 있을 뿐이므로 값이 거의 같다고 보시면 돼요.\n",
    "\n",
    "RMSE의 공식은 \n",
    "- $ MSE(\\mathbf{X},h_\\theta) = 1/m\\sum_{i = 1}^{m}(\\theta^T * \\mathbf{x}^{(i)} - y^{(i)})^2 $"
   ]
  },
  {
   "cell_type": "markdown",
   "metadata": {},
   "source": [
    "# Setup \n",
    "가장 먼저 공통으로 쓸 라이브러리를 import 합니다. 그리고 Matplotlib 를 기본 세팅을 정하고 save할 함수를 설정합니다."
   ]
  },
  {
   "cell_type": "code",
   "execution_count": 13,
   "metadata": {},
   "outputs": [],
   "source": [
    "import os\n",
    "import numpy as np\n",
    "import pandas as pd\n",
    "\n",
    "np.random.seed = 42\n",
    "\n",
    "%matplotlib inline\n",
    "\n",
    "import matplotlib\n",
    "import matplotlib.pyplot as plt\n",
    "plt.rcParams['axes.labelsize'] = 14\n",
    "plt.rcParams['xtick.labelsize'] = 12\n",
    "plt.rcParams['ytick.labelsize'] = 12\n",
    "\n",
    "PROJECT_ROOT_DIR = \".\"\n",
    "\n",
    "def save_fig(fig_id, tight_layout=True):\n",
    "    path = os.path.join(PROJECT_ROOT_DIR, \"images\",  fig_id + \".png\")\n",
    "    print(\"Saving figure\", fig_id)\n",
    "    if tight_layout:\n",
    "        plt.tight_layout()\n",
    "    plt.savefig(path, format='png', dpi=300)\n",
    "\n",
    "# Ignore useless warnings (see SciPy issue #5998)\n",
    "import warnings\n",
    "warnings.filterwarnings(action = \"ignore\", module = \"scipy\", message =\"^internal gelsd\")"
   ]
  },
  {
   "cell_type": "markdown",
   "metadata": {},
   "source": [
    "# The Normal Equation\n",
    "가장 낮은 $\\theta$ 를 찾기 위해 최소 비용 함수를 사용 할겁니다. `closed-form solution` 방법으로  수학적인 방법으로는 결과가 바로 직접적입니다. `NORMAL Equation`으로 불리는데 공식은 아래에\n",
    "\n",
    "- $\\hat{\\theta}  =  (\\mathbf{X}^T*X)^{-1}*\\mathbf{X}^T*y$"
   ]
  },
  {
   "cell_type": "code",
   "execution_count": 14,
   "metadata": {},
   "outputs": [],
   "source": [
    "X = 2 * np.random.rand(100,1)\n",
    "y = 4 + 3 * X +np.random.randn(100,1)"
   ]
  },
  {
   "cell_type": "code",
   "execution_count": 15,
   "metadata": {},
   "outputs": [
    {
     "name": "stdout",
     "output_type": "stream",
     "text": [
      "Saving figure generated_data_plot\n"
     ]
    },
    {
     "data": {
      "image/png": "[encoded data removed]",
      "text/plain": [
       "<Figure size 432x288 with 1 Axes>"
      ]
     },
     "metadata": {},
     "output_type": "display_data"
    }
   ],
   "source": [
    "plt.plot(X, y, \"b.\")\n",
    "plt.xlabel(\"$x_1$\", fontsize=18)\n",
    "plt.ylabel(\"$y$\", rotation=0, fontsize=18)\n",
    "plt.axis([0, 2, 0, 15])\n",
    "save_fig(\"generated_data_plot\")\n",
    "plt.show()"
   ]
  },
  {
   "cell_type": "code",
   "execution_count": 16,
   "metadata": {},
   "outputs": [],
   "source": [
    "X_b = np.c_[np.ones((100,1)),X] # x0 = 1 각 인스턴스에 추가 해야 합니다.\n",
    "theta_best = np.linalg.inv(X_b.T.dot(X_b)).dot(X_b.T).dot(y)"
   ]
  },
  {
   "cell_type": "code",
   "execution_count": 17,
   "metadata": {},
   "outputs": [
    {
     "data": {
      "text/plain": [
       "array([[3.79807691],\n",
       "       [3.1193483 ]])"
      ]
     },
     "execution_count": 17,
     "metadata": {},
     "output_type": "execute_result"
    }
   ],
   "source": [
    "theta_best"
   ]
  },
  {
   "cell_type": "markdown",
   "metadata": {},
   "source": [
    "$\\theta_0 = 3.79와 \\theta_1 = 3.11를 대신해서  \\theta_1 = \\theta_0 = 4, \\theta_1 = 3$ 이 되었습니다.충분히 가깝지만 잡음이 있는한  원래 함수의 정확한 파라미터를 알수가 없습니다.\n",
    "\n",
    "$\\hat{\\theta}$를 이용해서 예측을 해보겠습니다."
   ]
  },
  {
   "cell_type": "code",
   "execution_count": 18,
   "metadata": {},
   "outputs": [
    {
     "data": {
      "text/plain": [
       "array([[ 3.79807691],\n",
       "       [10.03677351]])"
      ]
     },
     "execution_count": 18,
     "metadata": {},
     "output_type": "execute_result"
    }
   ],
   "source": [
    "X_new = np.array([[0], [2]])\n",
    "X_new_b = np.c_[np.ones((2,1)), X_new]#add x0 = 1 each instance\n",
    "y_predict = X_new_b.dot(theta_best)\n",
    "y_predict"
   ]
  },
  {
   "cell_type": "code",
   "execution_count": 20,
   "metadata": {},
   "outputs": [
    {
     "name": "stdout",
     "output_type": "stream",
     "text": [
      "Saving figure Normal_Equation_model\n"
     ]
    },
    {
     "data": {
      "image/png": "[encoded data removed]",
      "text/plain": [
       "<Figure size 432x288 with 1 Axes>"
      ]
     },
     "metadata": {},
     "output_type": "display_data"
    }
   ],
   "source": [
    "plt.plot(X_new,y_predict,\"r-\",linewidth = 2, label = \"Prediction\")\n",
    "plt.plot(X,y,\"b.\")\n",
    "plt.axis([0,2,0,15])\n",
    "save_fig(\"Normal_Equation_model\")\n",
    "plt.show()"
   ]
  },
  {
   "cell_type": "code",
   "execution_count": null,
   "metadata": {},
   "outputs": [],
   "source": []
  }
 ],
 "metadata": {
  "kernelspec": {
   "display_name": "Python 3",
   "language": "python",
   "name": "python3"
  },
  "language_info": {
   "codemirror_mode": {
    "name": "ipython",
    "version": 3
   },
   "file_extension": ".py",
   "mimetype": "text/x-python",
   "name": "python",
   "nbconvert_exporter": "python",
   "pygments_lexer": "ipython3",
   "version": "3.6.5"
  }
 },
 "nbformat": 4,
 "nbformat_minor": 2
}
