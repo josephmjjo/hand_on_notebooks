{
 "cells": [
  {
   "cell_type": "markdown",
   "metadata": {},
   "source": [
    "이 관련 포스팅은 [hand on machine learning ](http://shop.oreilly.com/product/0636920052289.do)을 참고하여 작성 했습니다"
   ]
  },
  {
   "cell_type": "markdown",
   "metadata": {},
   "source": [
    "## CHAPTER 4 \n",
    "\n",
    "# Training Models\n",
    "머신러닝에 대해 많이 알아 보았는데요 사실 training 알고리즘은 거의 블랙 박스 같아요 전에 해왔던 많은 것들이 진행과정을 알수없이 진행 했었는데요 예를 들면 최적의 회귀 시스템이나 숫자 이미지 분별 스팸 구별 등을요. 정말 많은 상황들에서 우리는 자세히 알 필요도 없이 진행 했습니다.\n",
    "\n",
    "헌데 이해를 하게되면 빠르게 적합한 모델을 찾는데에 큰 도움을 줄겁니다. 올바른 트레이닝 알고리즘을 쓰면 하이퍼 파라미터 세팅도 좋고 작업도 좋으니깐요. 원리이해는 디버깅 문제해결과 실행에러 분석을 더 효과적으로 할겁니다. 마지막으로 뉴럴네트워크를 이해하고 만들고 실행하는데에도 큰 도움을 줍니다.\n",
    "\n",
    "이번 파트는 가장 단순한 모델 중 하나인 선형회귀를 배울 건데요 두가지 다른 방법으로 실행할 겁니다.\n",
    "바로 직접적으로 최적의 모델과 트레이닝 셋을 찾는 \"closed form\"과 반복적으로 최적의 상황을 탐색하는 Gradient Descent(GD) 가 그것입니다.\n",
    "여기서 우린 GD를 나중에 배울 뉴럴 네트워크에서도 사용 할것입니다. Batch GD,Mini-batch GD, and Stochastic GD \n",
    "일단 우린 Polynomial Regression (다항식 회귀)를 배울 겁니다. 다항식 회귀는 비선형 데이터에 적합한데요,선형회귀보다 더 많은 파라미터를 가지고 있습니다.즉 오버피팅 되기 쉽다는 뜻인데요.어떻게 오버피팅을 확인하고 리스크를 줄일지 알아봅시다.\n",
    "그리고 마지막으로 대체적으로 classification에  많이 사용하는 두 모델을 더 배울겁니다. 바로 Logistic Regression 과 Softmax Regression 입니다."
   ]
  },
  {
   "cell_type": "markdown",
   "metadata": {},
   "source": [
    "챕터 1에서 삶의 만족도 단순 회귀 모델은: **life_satisfaction** = $\\theta_0 + \\theta_1 $* GDP_per_capita \n",
    "여기서 파라미터는 $\\theta_0, \\theta_1 $ 이렇게 두개가 있는데요\n",
    "선형 회귀 공식은 단순히 feature를 다 더하면 됩니다 이거를 bias term 또는 intercept term 이라고 불리우는데요 \n",
    "공식으로는 \n",
    "\n",
    "$\\hat{y} = \\theta_0 + \\theta_1x_1 + \\theta_2x_2+ .....+ \\theta_nx_n$\n",
    "\n",
    "- $\\hat{y}$ 는 예측값\n",
    "- $n$ 은 피쳐 넘버\n",
    "- $x_i$ 은 피쳐 값\n",
    "- $\\theta$ 는 $j^{th}$ 모델 파라미터 입니다"
   ]
  },
  {
   "cell_type": "markdown",
   "metadata": {},
   "source": [
    "이것을 벡터로 이용하면 공식이 \n",
    "\n",
    "- $\\hat{y} = h_\\theta(\\mathbf{x}) = \\theta^T * \\mathbf{x}$\n",
    "\n",
    "\n",
    "위에 있는 것이 선형회귀 모델입니다. 그럼 지금 어떻게 train할까요? 가장 적합이 좋은 파라미터를 가진 모델과 그모델의 평균을 세팅 해야 하는데요 여기서 목적은 첫번째로 어떻게 하면 좋고 나쁜지를 측정해야 합니다. 챕터 2에서 대개적으로 많이쓰는 측정 퍼포먼스인 Root Mean Square Error(RMSE)로 선형회귀에서 값은 낮은 $\\theta$ 값을 찾아야합니다. 여기서는 더 단순한 Mean Square Error(MSE)함수를 사용할겁니다.ROOT의 유무 차이만 있을 뿐이므로 값이 거의 같다고 보시면 돼요.\n",
    "\n",
    "RMSE의 공식은 \n",
    "- $ MSE(\\mathbf{X},h_\\theta) = 1/m\\sum_{i = 1}^{m}(\\theta^T * \\mathbf{x}^{(i)} - y^{(i)})^2 $"
   ]
  },
  {
   "cell_type": "markdown",
   "metadata": {},
   "source": [
    "# Setup \n",
    "가장 먼저 공통으로 쓸 라이브러리를 import 합니다. 그리고 Matplotlib 를 기본 세팅을 정하고 save할 함수를 설정합니다."
   ]
  },
  {
   "cell_type": "code",
   "execution_count": 1,
   "metadata": {},
   "outputs": [],
   "source": [
    "# To support both python 2 and python 3\n",
    "from __future__ import division, print_function, unicode_literals\n",
    "\n",
    "# Common imports\n",
    "import numpy as np\n",
    "import os\n",
    "\n",
    "# to make this notebook's output stable across runs\n",
    "np.random.seed(42)\n",
    "\n",
    "%matplotlib inline\n",
    "\n",
    "import matplotlib\n",
    "import matplotlib.pyplot as plt\n",
    "plt.rcParams['axes.labelsize'] = 14\n",
    "plt.rcParams['xtick.labelsize'] = 12\n",
    "plt.rcParams['ytick.labelsize'] = 12\n",
    "\n",
    "PROJECT_ROOT_DIR = \".\"\n",
    "\n",
    "def save_fig(fig_id, tight_layout=True):\n",
    "    path = os.path.join(PROJECT_ROOT_DIR, \"images\",  fig_id + \".png\")\n",
    "    print(\"Saving figure\", fig_id)\n",
    "    if tight_layout:\n",
    "        plt.tight_layout()\n",
    "    plt.savefig(path, format='png', dpi=300)\n",
    "\n",
    "# Ignore useless warnings (see SciPy issue #5998)\n",
    "import warnings\n",
    "warnings.filterwarnings(action = \"ignore\", module = \"scipy\", message =\"^internal gelsd\")"
   ]
  },
  {
   "cell_type": "markdown",
   "metadata": {},
   "source": [
    "# The Normal Equation\n",
    "가장 낮은 $\\theta$ 를 찾기 위해 최소 비용 함수를 사용 할겁니다. `closed-form solution` 방법으로  수학적인 방법으로는 결과가 바로 직접적입니다. `NORMAL Equation`으로 불리는데 공식은 아래에\n",
    "\n",
    "- $\\hat{\\theta}  =  (\\mathbf{X}^T*X)^{-1}*\\mathbf{X}^T*y$"
   ]
  },
  {
   "cell_type": "code",
   "execution_count": 2,
   "metadata": {},
   "outputs": [],
   "source": [
    "X = 2 * np.random.rand(100,1)\n",
    "y = 4 + 3 * X +np.random.randn(100,1)"
   ]
  },
  {
   "cell_type": "code",
   "execution_count": 3,
   "metadata": {},
   "outputs": [
    {
     "name": "stdout",
     "output_type": "stream",
     "text": [
      "Saving figure generated_data_plot\n"
     ]
    },
    {
     "data": {
      "image/png": "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\n",
      "text/plain": [
       "<Figure size 432x288 with 1 Axes>"
      ]
     },
     "metadata": {},
     "output_type": "display_data"
    }
   ],
   "source": [
    "plt.plot(X, y, \"b.\")\n",
    "plt.xlabel(\"$x_1$\", fontsize=18)\n",
    "plt.ylabel(\"$y$\", rotation=0, fontsize=18)\n",
    "plt.axis([0, 2, 0, 15])\n",
    "save_fig(\"generated_data_plot\")\n",
    "plt.show()"
   ]
  },
  {
   "cell_type": "code",
   "execution_count": 4,
   "metadata": {},
   "outputs": [],
   "source": [
    "X_b = np.c_[np.ones((100,1)),X] # x0 = 1 각 인스턴스에 추가 해야 합니다.\n",
    "theta_best = np.linalg.inv(X_b.T.dot(X_b)).dot(X_b.T).dot(y)"
   ]
  },
  {
   "cell_type": "code",
   "execution_count": 5,
   "metadata": {},
   "outputs": [
    {
     "data": {
      "text/plain": [
       "array([[4.21509616],\n",
       "       [2.77011339]])"
      ]
     },
     "execution_count": 5,
     "metadata": {},
     "output_type": "execute_result"
    }
   ],
   "source": [
    "theta_best"
   ]
  },
  {
   "cell_type": "markdown",
   "metadata": {},
   "source": [
    "$\\theta_0 = 3.79와 \\theta_1 = 3.11를 대신해서  \\theta_1 = \\theta_0 = 4, \\theta_1 = 3$ 이 되었습니다.충분히 가깝지만 잡음이 있는한  원래 함수의 정확한 파라미터를 알수가 없습니다.\n",
    "\n",
    "$\\hat{\\theta}$를 이용해서 예측을 해보겠습니다."
   ]
  },
  {
   "cell_type": "code",
   "execution_count": 6,
   "metadata": {},
   "outputs": [
    {
     "data": {
      "text/plain": [
       "array([[4.21509616],\n",
       "       [9.75532293]])"
      ]
     },
     "execution_count": 6,
     "metadata": {},
     "output_type": "execute_result"
    }
   ],
   "source": [
    "X_new = np.array([[0], [2]])\n",
    "X_new_b = np.c_[np.ones((2,1)), X_new]#add x0 = 1 each instance\n",
    "y_predict = X_new_b.dot(theta_best)\n",
    "y_predict"
   ]
  },
  {
   "cell_type": "code",
   "execution_count": 7,
   "metadata": {},
   "outputs": [
    {
     "name": "stdout",
     "output_type": "stream",
     "text": [
      "Saving figure Normal_Equation_model\n"
     ]
    },
    {
     "data": {
      "image/png": "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\n",
      "text/plain": [
       "<Figure size 432x288 with 1 Axes>"
      ]
     },
     "metadata": {},
     "output_type": "display_data"
    }
   ],
   "source": [
    "plt.plot(X_new,y_predict,\"r-\",linewidth = 2, label = \"Prediction\")\n",
    "plt.plot(X,y,\"b.\")\n",
    "plt.axis([0,2,0,15])\n",
    "save_fig(\"Normal_Equation_model\")\n",
    "plt.show()"
   ]
  },
  {
   "cell_type": "code",
   "execution_count": 8,
   "metadata": {},
   "outputs": [
    {
     "data": {
      "text/plain": [
       "(array([4.21509616]), array([[2.77011339]]))"
      ]
     },
     "execution_count": 8,
     "metadata": {},
     "output_type": "execute_result"
    }
   ],
   "source": [
    "from sklearn.linear_model import LinearRegression\n",
    "lin_reg = LinearRegression()\n",
    "lin_reg.fit(X, y)\n",
    "lin_reg.intercept_,lin_reg.coef_"
   ]
  },
  {
   "cell_type": "code",
   "execution_count": 9,
   "metadata": {},
   "outputs": [
    {
     "data": {
      "text/plain": [
       "array([[4.21509616],\n",
       "       [9.75532293]])"
      ]
     },
     "execution_count": 9,
     "metadata": {},
     "output_type": "execute_result"
    }
   ],
   "source": [
    "lin_reg.predict(X_new)"
   ]
  },
  {
   "cell_type": "code",
   "execution_count": 10,
   "metadata": {},
   "outputs": [
    {
     "data": {
      "text/plain": [
       "array([[4.21509616],\n",
       "       [2.77011339]])"
      ]
     },
     "execution_count": 10,
     "metadata": {},
     "output_type": "execute_result"
    }
   ],
   "source": [
    "theta_best_svd, residuals, rank, s = np.linalg.lstsq(X_b, y, rcond=1e-6)\n",
    "theta_best_svd"
   ]
  },
  {
   "cell_type": "markdown",
   "metadata": {},
   "source": [
    "## Batch Gradient Descent\n",
    "Global minimum을 찾는 방법 중에 첫번쨰로 Batch Gradient Descent를 찾을 수 있는데요\n",
    "다만 Batch는 시간이 오래 걸린다는 단점이 있습니다. 후에 더 짧은 방법이 나오니 우선  Batch부터 확인해 보아요"
   ]
  },
  {
   "cell_type": "code",
   "execution_count": 11,
   "metadata": {},
   "outputs": [],
   "source": [
    "eta = 0.1 # learning rate\n",
    "n_iterations = 1000\n",
    "m = 100\n",
    "\n",
    "theta = np.random.randn(2,1) # random initialization\n",
    "\n",
    "for iteration in range(n_iterations):\n",
    "    gradients = 2/m * X_b.T.dot(X_b.dot(theta) - y)\n",
    "    theta = theta - eta * gradients"
   ]
  },
  {
   "cell_type": "code",
   "execution_count": 12,
   "metadata": {},
   "outputs": [
    {
     "data": {
      "text/plain": [
       "array([[4.21509616],\n",
       "       [2.77011339]])"
      ]
     },
     "execution_count": 12,
     "metadata": {},
     "output_type": "execute_result"
    }
   ],
   "source": [
    "theta"
   ]
  },
  {
   "cell_type": "code",
   "execution_count": 13,
   "metadata": {},
   "outputs": [
    {
     "data": {
      "text/plain": [
       "array([[4.21509616],\n",
       "       [9.75532293]])"
      ]
     },
     "execution_count": 13,
     "metadata": {},
     "output_type": "execute_result"
    }
   ],
   "source": [
    "X_new_b.dot(theta)"
   ]
  },
  {
   "cell_type": "code",
   "execution_count": 14,
   "metadata": {},
   "outputs": [],
   "source": [
    "theta_path_bgd = []\n",
    "\n",
    "def plot_gradient_descent(theta, eta, theta_path=None):\n",
    "    m = len(X_b)\n",
    "    plt.plot(X, y, \"b.\")\n",
    "    n_iterations = 1000\n",
    "    for iteration in range(n_iterations):\n",
    "        if iteration < 10:\n",
    "            y_predict = X_new_b.dot(theta)\n",
    "            style = \"b-\" if iteration > 0 else \"r--\"\n",
    "            plt.plot(X_new, y_predict, style)\n",
    "        gradients = 2/m * X_b.T.dot(X_b.dot(theta) - y)\n",
    "        theta = theta - eta * gradients\n",
    "        if theta_path is not None:\n",
    "            theta_path.append(theta)\n",
    "    plt.xlabel(\"$x_1$\", fontsize=18)\n",
    "    plt.axis([0, 2, 0, 15])\n",
    "    plt.title(r\"$\\eta = {}$\".format(eta), fontsize=16)"
   ]
  },
  {
   "cell_type": "code",
   "execution_count": 15,
   "metadata": {},
   "outputs": [
    {
     "name": "stderr",
     "output_type": "stream",
     "text": [
      "C:\\Users\\Playdata\\AppData\\Local\\Continuum\\anaconda3\\lib\\site-packages\\ipykernel_launcher.py:13: RuntimeWarning: invalid value encountered in subtract\n",
      "  del sys.path[0]\n"
     ]
    },
    {
     "data": {
      "image/png": "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\n",
      "text/plain": [
       "<Figure size 720x288 with 4 Axes>"
      ]
     },
     "metadata": {},
     "output_type": "display_data"
    }
   ],
   "source": [
    "np.random.seed(42)\n",
    "theta = np.random.randn(2,1)  # random initialization\n",
    "\n",
    "plt.figure(figsize=(10,4))\n",
    "plt.subplot(141); plot_gradient_descent(theta, eta=0.02)\n",
    "plt.ylabel(\"$y$\", rotation=0, fontsize=18)\n",
    "plt.subplot(142); plot_gradient_descent(theta, eta=0.1, theta_path=theta_path_bgd)\n",
    "plt.subplot(143); plot_gradient_descent(theta, eta=0.5)\n",
    "plt.subplot(144); plot_gradient_descent(theta, eta=0.8)\n",
    "\n",
    "#save_fig(\"gradient_descent_plot\")\n",
    "plt.show()"
   ]
  },
  {
   "cell_type": "markdown",
   "metadata": {},
   "source": [
    "## Convergence Rate\n",
    "오목한 부분에서 기울기가 급변하지 않는다고 해서 최적값이 된건 아닙니다. 단지 learning rate값을 고정해서 최적값에 향해 가는 겁니다.\n",
    "그러니 시간이 오래 걸릴 수 밖에 없습니다.\n",
    "걸리는 시간은 O(1/$\\epsilon$) \n",
    "\n",
    "* $\\epsilon$(tolerance)로 오차라고 생각하면 됨 "
   ]
  },
  {
   "cell_type": "markdown",
   "metadata": {},
   "source": [
    "# Stochastic Gradient Descent\n"
   ]
  },
  {
   "cell_type": "markdown",
   "metadata": {},
   "source": [
    "모든 스텝을 랜덤으로 골라서 하는 것이므로 대규모의 데이터 셋을 할때는 Batch 보다는 더 유용합니다. 비록 불규칙적이지만\n",
    "그렇기에 local minimum 에서 벗어나는데 도움을 줍니다.\n",
    "하지만 딜레마는 최소값에 정착을 못 합니다. 방법으로는 simulated annealing 로 annealing 쇠를 달음질 하는 것을 의미하는데 말 그래도 처음에는 \n",
    "learning rate를 크게 했다가 조금씩 조금씩 줄입니다. 각 learning rate step을 learning schedule라고 불립니다."
   ]
  },
  {
   "cell_type": "code",
   "execution_count": null,
   "metadata": {},
   "outputs": [],
   "source": []
  },
  {
   "cell_type": "code",
   "execution_count": 16,
   "metadata": {},
   "outputs": [
    {
     "data": {
      "image/png": "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\n",
      "text/plain": [
       "<Figure size 432x288 with 1 Axes>"
      ]
     },
     "metadata": {},
     "output_type": "display_data"
    }
   ],
   "source": [
    "theta_path_sgd = []\n",
    "m = len(X_b)\n",
    "np.random.seed(42)\n",
    "n_epochs = 50\n",
    "t0, t1 = 5,2 # learning schedule hyperparameters\n",
    "\n",
    "def learning_schedule(t):\n",
    "    return t0/ (t + t1)\n",
    "\n",
    "theta = np.random.randn(2,1) # random initialization\n",
    "\n",
    "for epoch in range(n_epochs):\n",
    "    for i in range(m):\n",
    "        if epoch == 0 and i < 20:\n",
    "            y_predict = X_new_b.dot(theta)\n",
    "            style = \"b-\" if i > 0 else \"r--\"\n",
    "            plt.plot(X_new, y_predict, style)\n",
    "            \n",
    "        random_index = np.random.randint(m)\n",
    "        xi = X_b[random_index:random_index+1]\n",
    "        yi = y[random_index:random_index+1]\n",
    "        gradients = 2 * xi.T.dot(xi.dot(theta) - yi)\n",
    "        eta = learning_schedule(epoch * m + i)\n",
    "        theta = theta - eta * gradients\n",
    "        theta_path_sgd.append(theta)\n",
    "\n",
    "plt.plot(X, y, 'b.')\n",
    "plt.xlabel(\"$x_1$\", fontsize = 18)\n",
    "plt.ylabel(\"$y$\", rotation = 0, fontsize = 18)\n",
    "plt.axis([0,2,0,15])\n",
    "\n",
    "plt.show()"
   ]
  },
  {
   "cell_type": "code",
   "execution_count": 17,
   "metadata": {},
   "outputs": [
    {
     "data": {
      "text/plain": [
       "array([[4.44005232],\n",
       "       [2.54135884]])"
      ]
     },
     "execution_count": 17,
     "metadata": {},
     "output_type": "execute_result"
    }
   ],
   "source": [
    "theta"
   ]
  },
  {
   "cell_type": "code",
   "execution_count": 18,
   "metadata": {},
   "outputs": [],
   "source": [
    "theta_path_sgd = []\n",
    "m = len(X_b)\n",
    "np.random.seed(42)"
   ]
  },
  {
   "cell_type": "code",
   "execution_count": 19,
   "metadata": {},
   "outputs": [
    {
     "data": {
      "image/png": "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\n",
      "text/plain": [
       "<Figure size 432x288 with 1 Axes>"
      ]
     },
     "metadata": {},
     "output_type": "display_data"
    }
   ],
   "source": [
    "\n",
    "n_epochs = 50\n",
    "t0, t1 = 2, 50 # learning schedule hyperparameters\n",
    "\n",
    "def learning_schedule(t):\n",
    "    return t0/ (t + t1)\n",
    "\n",
    "theta = np.random.randn(2,1) # random initialization\n",
    "\n",
    "for epoch in range(n_epochs):\n",
    "    for i in range(m):\n",
    "        if epoch == 0 and i < 20:\n",
    "            y_predict = X_new_b.dot(theta)\n",
    "            style = \"b-\" if i > 0 else \"r--\"\n",
    "            plt.plot(X_new, y_predict, style)\n",
    "            \n",
    "        random_index = np.random.randint(m)\n",
    "        xi = X_b[random_index:random_index+1]\n",
    "        yi = y[random_index:random_index+1]\n",
    "        gradients = 2 * xi.T.dot(xi.dot(theta) - yi)\n",
    "        eta = learning_schedule(epoch * m + i)\n",
    "        theta = theta - eta * gradients\n",
    "        theta_path_sgd.append(theta)\n",
    "\n",
    "plt.plot(X, y, 'b.')\n",
    "plt.xlabel(\"$x_1$\", fontsize = 18)\n",
    "plt.ylabel(\"$y$\", rotation = 0, fontsize = 18)\n",
    "plt.axis([0,2,0,15])\n",
    "\n",
    "plt.show()"
   ]
  },
  {
   "cell_type": "code",
   "execution_count": 20,
   "metadata": {},
   "outputs": [
    {
     "data": {
      "text/plain": [
       "[array([[ 0.77112006],\n",
       "        [-0.02920679]]), array([[1.14762159],\n",
       "        [0.2634684 ]]), array([[1.64740684],\n",
       "        [0.8750585 ]]), array([[1.84118552],\n",
       "        [1.00330047]]), array([[2.30274246],\n",
       "        [1.67681006]]), array([[2.58044162],\n",
       "        [2.06939744]]), array([[2.79370289],\n",
       "        [2.37088802]]), array([[2.87705762],\n",
       "        [2.47717488]]), array([[3.0193295 ],\n",
       "        [2.50787472]]), array([[3.09435833],\n",
       "        [2.56285012]]), array([[3.2035173 ],\n",
       "        [2.72265753]]), array([[3.27793783],\n",
       "        [2.74341994]]), array([[3.3620557 ],\n",
       "        [2.90147724]]), array([[3.39546973],\n",
       "        [2.96501163]]), array([[3.38474861],\n",
       "        [2.95134097]]), array([[3.44775309],\n",
       "        [2.95719414]]), array([[3.63101678],\n",
       "        [2.99299364]]), array([[3.63598979],\n",
       "        [3.00244947]]), array([[3.58489556],\n",
       "        [2.9659934 ]]), array([[3.70009357],\n",
       "        [3.04094821]])]"
      ]
     },
     "execution_count": 20,
     "metadata": {},
     "output_type": "execute_result"
    }
   ],
   "source": [
    "theta_path_sgd[:20]"
   ]
  },
  {
   "cell_type": "code",
   "execution_count": 21,
   "metadata": {},
   "outputs": [],
   "source": [
    "theta_path_sgd = []\n",
    "m = len(X_b)\n",
    "np.random.seed(42)"
   ]
  },
  {
   "cell_type": "code",
   "execution_count": 22,
   "metadata": {},
   "outputs": [
    {
     "data": {
      "image/png": "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\n",
      "text/plain": [
       "<Figure size 432x288 with 1 Axes>"
      ]
     },
     "metadata": {},
     "output_type": "display_data"
    }
   ],
   "source": [
    "n_epochs = 50\n",
    "t0, t1 = 2, 100 # learning schedule hyperparameters\n",
    "\n",
    "def learning_schedule(t):\n",
    "    return t0/ (t + t1)\n",
    "\n",
    "theta = np.random.randn(2,1) # random initialization\n",
    "\n",
    "for epoch in range(n_epochs):\n",
    "    for i in range(m):\n",
    "        if epoch == 0 and i < 20:\n",
    "            y_predict = X_new_b.dot(theta)\n",
    "            style = \"b-\" if i > 0 else \"r--\"\n",
    "            plt.plot(X_new, y_predict, style)\n",
    "            \n",
    "        random_index = np.random.randint(m)\n",
    "        xi = X_b[random_index:random_index+1]\n",
    "        yi = y[random_index:random_index+1]\n",
    "        gradients = 2 * xi.T.dot(xi.dot(theta) - yi)\n",
    "        eta = learning_schedule(epoch * m + i)\n",
    "        theta = theta - eta * gradients\n",
    "        theta_path_sgd.append(theta)\n",
    "\n",
    "plt.plot(X, y, 'b.')\n",
    "plt.xlabel(\"$x_1$\", fontsize = 18)\n",
    "plt.ylabel(\"$y$\", rotation = 0, fontsize = 18)\n",
    "plt.axis([0,2,0,15])\n",
    "\n",
    "plt.show()"
   ]
  },
  {
   "cell_type": "code",
   "execution_count": 23,
   "metadata": {},
   "outputs": [
    {
     "data": {
      "text/plain": [
       "[array([[ 0.63391711],\n",
       "        [-0.08373554]]), array([[0.83114426],\n",
       "        [0.06957989]]), array([[1.10765203],\n",
       "        [0.40794404]]), array([[1.24032996],\n",
       "        [0.49574978]]), array([[1.53157991],\n",
       "        [0.92074529]]), array([[1.74713746],\n",
       "        [1.22548217]]), array([[1.93627019],\n",
       "        [1.49286189]]), array([[2.05458129],\n",
       "        [1.64372214]]), array([[2.16810956],\n",
       "        [1.66821959]]), array([[2.26253637],\n",
       "        [1.73740835]]), array([[2.39626885],\n",
       "        [1.93319108]]), array([[2.47419364],\n",
       "        [1.95493114]]), array([[2.60237721],\n",
       "        [2.19578779]]), array([[2.69539553],\n",
       "        [2.37265549]]), array([[2.7404432 ],\n",
       "        [2.43009644]]), array([[2.80014936],\n",
       "        [2.43564319]]), array([[2.93026441],\n",
       "        [2.46106042]]), array([[2.99164846],\n",
       "        [2.5777778 ]]), array([[2.9943178],\n",
       "        [2.5796824]]), array([[3.08941363],\n",
       "        [2.64155751]])]"
      ]
     },
     "execution_count": 23,
     "metadata": {},
     "output_type": "execute_result"
    }
   ],
   "source": [
    "theta_path_sgd[:20]"
   ]
  },
  {
   "cell_type": "code",
   "execution_count": 24,
   "metadata": {},
   "outputs": [
    {
     "name": "stdout",
     "output_type": "stream",
     "text": [
      "Saving figure sgd_plot\n"
     ]
    },
    {
     "data": {
      "image/png": "iVBORw0KGgoAAAANSUhEUgAAAagAAAEYCAYAAAAJeGK1AAAABHNCSVQICAgIfAhkiAAAAAlwSFlzAAALEgAACxIB0t1+/AAAADl0RVh0U29mdHdhcmUAbWF0cGxvdGxpYiB2ZXJzaW9uIDIuMi4yLCBodHRwOi8vbWF0cGxvdGxpYi5vcmcvhp/UCwAAIABJREFUeJztnXd4XNW19t81RcW25G7ZlovkKncDMtjGGLBNhwsECBA6JM4lcEn5khuSSwIBcnPDTSEJSYgJHUIol5AQIFRjbLAJMolxNy7YGPcuyZassr8/3jk5ZWakGWnKGWn9nmeekWafOWfPmTP7PWvttdYWYwwURVEUxW8Est0BRVEURYmFCpSiKIriS1SgFEVRFF+iAqUoiqL4EhUoRVEUxZeoQCmKoii+RAVKURRF8SUqUIqiKIovUYFSFEVRfEko2x1ojT59+piysrJsd0NRFEVphaVLl+4xxvRN1f58L1BlZWWoqqrKdjcURVGUVhCRzancn7r4FEVRFF+iAqUoiqL4EhUoRVEUxZeoQCmKoii+RAVKURRF8SUqUIqiKIovUYFSFEVRfIkKlKIoiuJLVKAURVEUX5JSgRKRm0WkSkTqReSRONvcLiJGROak8tiKoihKxyLVpY62AbgbwBkACr2NIjIcwMUAtqf4uIqiKEoHI6UWlDHmeWPMCwD2xtnkPgDfBnA0lcdVFEVROh4Zm4MSkUsAHDXGvJypYyqKoii5S0aqmYtINwD/DeD0BLefC2AuAAwZMiSNPVMURVH8SqYsqB8AeNwYsymRjY0x84wxlcaYyr59U7a0iKIoipJDZEqgZgO4RUR2iMgOAIMBPCMi387Q8RVFUZQcI6UuPhEJRfYZBBAUkQIAjaBAhR2bfgDgGwBeSeXxFUVRlI5Dqi2o2wAcAXArgCsjf99mjNlrjNlhPQA0AdhvjKlJ8fEVRVGUDkJKLShjzB0A7khgu7JUHldRFEXpeGipI0VRFMWXqEApiqIovkQFSlEURfElKlCKoiiKL1GBUhRFUXyJCpSiKIriS1SgFEVRFF+iAqUoiqL4EhUoRVEUxZeoQCmKoii+RAVKURRF8SUqUIqiKIovUYFSFEVRfIkKlKIoiuJLVKAURVEUX6ICpSiKovgSFShFURTFl6hAKYqiKL5EBUpRFEXxJSpQiqIoii9JqUCJyM0iUiUi9SLyiOP1qSLyuojsE5HdIvKsiAxI5bEVRVGUjkWqLahtAO4G8JDn9Z4A5gEoAzAUQDWAh1N8bEVRFKUDEUrlzowxzwOAiFQCGOR4/RXndiJyH4AFqTy2oiiK0rHI1hzUTAAr4zWKyNyIq7Bq9+7dGeyWoiiK4hcyLlAiMhHA9wF8K942xph5xphKY0xl3759M9c5RVEUxTdkVKBEZASAVwB81RizMJPHVhRFUXKLjAmUiAwF8AaAu4wxj2fquIqiKEpuktIgCREJRfYZBBAUkQIAjQBKALwF4NfGmPtTeUxFURSlY5JSgQJwG4DbHf9fCeAHAAyAYQBuF5F/tRtjuqX4+IqiKEoHIdVh5ncAuCNO8w9SeSxFURSlY6OljhRFURRfogKlKIqi+BIVKEVRFMWXqEApiqIovkQFSlEURfElKlCKoihZZvFi4Ec/4rNik+o8KEVRFCUJFi8GZs8Gjh4F8vKAN98Epk3Ldq/8gVpQiqIoWeTttylOTU18fvvtbPfIP6hAKYqiZJFTTqHlFAzy+ZRTst0j/6AuPkVRlCwybRrdem+/TXFS956NCpSiKEqWmTYt94Rp8eL0i6oKlKIoipIUmQrs0DkoRVEUJSkyFdihAqUoiqIkRaYCO9TFpyiKoiRFpgI7VKAURVGUpMlEYIe6+BRFUXxOZy2FpBaUoiiKj0kkYi4TId/ZQAVKUZScoKMOwq0RK2LO+fnTGfKdyDmvrweWLAHeeis1x3SSUoESkZsBXAtgAoCnjDHXOtpmA/g1gCEA3gdwrTFmcyqPryhKx6QzF1S1Iuasz+6NmGtNwNpKvHPe2AhUVQHz51OUFi0C6uqAQBomjFJtQW0DcDeAMwAUWi+KSB8AzwP4IoAXAdwF4GkAU1N8fEVROiDpGoRzgdYi5loTsLbiPed33w2IAO+8A1RXc5uJE4HLLwe2bQNWrQI+/TQ1x7ZIqUAZY54HABGpBDDI0fQ5ACuNMc9G2u8AsEdEKowxa1LZB0VROh7pGoRzhZYi5lId8m0MsGYNsGeP/VpTE/Dyy8Do0cDZZwPbtwPr1gErVgAffdS+47VEpuagxgFYZv1jjKkVkQ2R11WgFEVpES2o2jLtDfnetInuOuuxYwdfLykBevSg+273borS2rWp6XMiZEqgugHY7XntIICiWBuLyFwAcwFgyJAh6e2Zoig5QS4WVPUrn31mzyG99RawORINUFICjBkD9O1Ld92uXcDOnfH3I0IBA4D9+1Pfz0wJVA2AYs9rxQCqY21sjJkHYB4AVFZWmvR2TVEUJXX4Mdpwzx726a23gJdeArZs4es9ewIjR9Jtun07xSgRQWpqAg4dojuwupqvp4NMCdRKANdY/4hIVwDDI68riqJ0CPwSbXjwIIMZLAvJmicqKGBYuMX+/cDf/x5/P4EA0L07P09tLQWppgZobra3MYaRfekg1WHmocg+gwCCIlIAoBHAnwD8r4hcBOAlAN8H8JEGSCiK0pHIVrRhbS3w7rsUo/nzGQbe3Mxirv37AwMGAHv3Mhy8JQIBoLiYInbkCPdRU+MWoKYmt0ABQHk5MHYsrbNUkmoL6jYAtzv+vxLAD4wxd0TE6T4AT4B5UJel+NiKorQTP7qnWsNPfc5UtGF9PfD++7aFtGQJ0NBAgSktBbp1owuuqYnzTYnS3AwcPsz+WzQ0uLfJzwdGjQIqKihcK1YAGzcy0CLViDH+nuKprKw0VVVV2e6GonR4/OKeSgY/9jkdgtnYCCxdagvSu+/SwgGAfv0oWNXV0ZaNl2CQbj7LOkqEnj2Z7zR8OF2C//wn57CamtzbDBwIrFwpS40xlW37lNFoqSNFUQDkZjKsH/ucimjD5mbOG1mRdgsW2MmxVti3xa5dre8vEOA+rfPUkjiVlgJTpvD5k0+Af/yD81kLFtjb9O5N12FBASMA9+zJ7Sg+RVF8Ti4mw+Zin2NhDPOLLAvp7bc5ZwQAXbu654AOHIi/n1AIKCzkvJHlHAsG3daO02XnbAsGgWOOoSi98IK9TSDAsPPevfn/hg3s2969tKqOPZZCtXcvLbtUoi4+RVH+hZ/mcxIlF/sM2Mmx8+fTNWklx+bnUzQSiYwLhSgONTX2a5a1FIvCQrrrTjyRov7ii3YOlHOfvXszeq+mhmWMrH5NmMBcqeZmuvlWr7aPNXQosHlzal18KlCKoihtJBlx3LbNdtm9+aYtDKEQB/lE5oRCIQpFba39mohtLXnp1Qs4/ni67HbuZHTfmjUMhPAiYs9PAZzbGjOGQlVdzfdt3862ggJgyBBarXv32q8DKlCKoihZp7UADWdy7BtvAB9/zNdbsnC8hEJAOGyLhpUQG2/YHjwYmDmTNfM2bmSO0/r17qi8ggLOY4lQtKy+lJXxfaEQX1++3M6Z6tOHYldfz6hAy7obOBA44QT7ceqpGiShKIqSdbwBGn/7G62JN98EXn2V7i8g2sJpSZzCYc4FWflKXlefcz+BAEO958yhS271agrSH//onnPq0oWCVF/PBN66OlpEEyYAxx3H1zdu5NzSJ5/YuVP9+1Nka2v5fOQIUFkJXHopxej444FBzpLgaUAtKEVRlATwuvPmzwfOOsu2TtoylIbDfPbmGsUiL48CMXs2RW/ZMrrstm1zH7trV1pJ1dV234YMAUaMoFjt2wesXEmxsrbv0YMCtG8fXwsEgHHjbMvo+OP5fzDYch9F1IJSFEXJKJY7r76eg/fQoQxySNRVZxEO2+HeAK2jeMJWVER33fTpDFZYupQh3++9Z28jQoEJBJiYC7CPI0awegQAbN3KtZqc9ffy8uwIvtpaCtQpp9hiVFnJZN9sowKlKIoSg8ZG4MMPGen2+9/b80DNzXSHJUI47C4N5LWUnOI0YAAwaxYweTLngN5/n6vVOssHBQK0jhoauF9jeIyxYykytbVcEmPZMj5CIZYuysuz3YZHjwKTJlGILAuptLRt5yjdqEApiqLATo597jmKwsqVibnenIRCtnAALb9/9GgK0vDhtG4WL2b+0ZNP2tsEg3TL1dXZkX719dx/IMCSQ5s22flHXbq4K4s3N1N8nIEMY8e27qqzyHYIvwqUoig5TVsHUWMoQk8+CbzyCoMMnNFubSFe7lIgwICEk0+mpbRuHa2jhx5yVxe3wsit18Jhhnr360ex+/BDe57IsuS8JYecYnTccW131fmhjJQKlKIoOUuyg+iqVcDDDwOvvca8nmQFyVuVIR75+cCMGXwUFdEye/dd4N573SIWCrn3WVDA+aOBA1kxYuVKzj1Z23rnq8aPB04/3Z47SqWrzg9lpFSgFEXJWVobRJctoyBZeUhOQUpkkT1vzlI8cerZk9bR1KkUkaVLWWH8rbfcohJyjLiWi660lAEOf/87gyH++U8+wmHbRRgI0DV3wgnMSaqtBS65hAKYLvxQRkoFSlFyjGzPC/gJ7yDarx9w000Uhg0b3HNAXkGKFT3nFaR4UXp9+jAH6OSTmYO0eDGj65w17Kz9WccpKqLI9OrFSg6rV9OiW7Uqev9FRbSMrECG9rjq2sq0abRIdQ5KUZSE8MO8QKaJJ8gNDQwemD2b1barq4EvftFuT0SQEk2irajg8SdMYFmfRYtsSyfe/nr04EJ+JSWss7dqFSPzvNt16cKAieXLefy8PCb6+uF7TUVl9vaQkECJyP0Avgyg1BizzdM2GsByAL81xnw19V1UFMXCD/MCmcQryD/4AedzFi4EPv205TykRBJn41lRxx5LQRoxgqWCFi4EHnvMXcPOKYChEBNZS0qA3bspXAcOMG/JiQjFbsYMO5BhzBjOQ6llHE2iFtRiUKCOB+AxYvFzAIcA3JG6bimKEgs/zAtkiu3bgV/8ws4/OnIE+M//tNsTmUNKhIICzh1ZEXbLl1OQfvnL+EEUPXrQXVdUxPWYrNyjWIwZA1x3ne2q69o19nbZtlb8SKICtSTy7BIoETkHwFkAbjLGpGG5KkVRnPhhXiAdGMOougULmBi7ZIkdTt3Se9pKIADceCOtnqoqCtLdd8cPgigvB4YNYwTeJ58wb8lZ0QFg5N6kSQx8eOYZ7isvD3jwwY7zPWWahGvxicheAP8wxsyJ/B8GsALAUQCTjTEJBF8mj9biU5Tsk2r309GjjHRbuJA5SB984F5CAmh5GYlk6N+fCbHV1cBf/5r4PgMBJtHu2mXXrXP2rawMOOkkWl7HH2+76oDO667LZi2+JQBOFBExVLWvAhgFYE66xElRlOyTisCMgwe5n4ULgddf5xxNslUaEmX4cPZ3yhSGb8+fzzDzeEujW+46EQYyWEuXNzfbS2T06MF5qTlzuNhfS646QN11qSJZgTobwGgR2QfgewBeMMa8megORKQMwG8ATANQD+A5AF8zxiSwdqSiKNmgLYEZW7cy0m3RIoZ8r1mTvDWUyPaBACPrZs+me+3TTymgTz8NzJsX+z09erC6t9XPffui3XUAAx/uugu45hq78KqSWZIRqMWR5+MBzASQD+D/JXm83wDYBWAAgB4AXgfwFQC/THI/iqKkEaeLqrXAjOZmWh6WIC1YwIEfSJ2bziI/n5W258xhhN3atawKcf/9sVeJzcujRdWtG6Prtm1jdN2BA9HbhsNM6h06lJZeZ3PP+ZFkBOp9AM0AbgAwA8D/GmM2Jnm8cgD3GWPqAOwQkb8BGJfkPhRFSSOxXHrOwIxjjrHFyHpYczTeUkDtFadu3RiSPWsWrZgPP2SO0H//d2wXYXExraPmZlYE37vXXjgQoFtu/Hjg1FOB884DHn+c9fCM4Xu2bAGuuCK9FRqUxElYoIwx1SKyCrSedgD4YRuO9wsAl4nI2wB6ghGA3/NuJCJzAcwFgCGWLa4oyr9I5yS816X38ssMkT54EPjWtxjQYIVfW5aVRSJ16lqib1/bauvWjZbMG29w3sq7bxFWdOjThyWCdu/mnNOKFWwPBilWU6ZQjE4/3e2qW7wYeOIJW0SDwY4dtp8sfgj0SLaSxN8BjAfwHWNMdRuOtwDAl8C8qSCARxGdVwVjzDwA8wBG8bXhOIrSYUlnNQljWNUgGLSXd7j7brZZaxE5Bam91b8tAgHgggt43AULuOSF1/oKhShghYUMZDhwgKK0ezfbu3endTdrFnDRRcDEiS0vK/H223bhVhHg+uvVpWfhl4olCQtUJKz8FABVoLAkhYgEALwK4HcApgPoBuAhAD8G8J8tvFVRFAeprCbR1ESLw+mus+aPgkHO+Rw5YrvAYs3zJEogQPGzqm9/+CHws5/ZQvj88+7tCwtZhLW+nmLU2MjkXYDzRcOGcT//9m/AOeckX6vulFNsIQ6Hgauvbvtn62j4pWJJMhbUN8E5pCtMoslTbnoBGAzOQdUDqBeRhwHcDRUoRUmY9lSTOHKEVbMtMXrvPXup8OJiDtRWYENTU/sEKRzm6rBnnEHLZv164P/+D3jgAVaI8NKtG+eI6urYpyNH7CoSAAXu+utZTWLkyLb3y4lVjSJVVSk6Cn6pWNKiQIlILwBnAJgI4FsAfmaMWdLSe+JhjNkjIpsA3CgiPwEtqGsAxCkQoihKLJKpJrFnD9chsgRp6VI7uGDAAApCbS3FyBKqttKlCy2aM8+kgLz/PvCXvwD33BPtCrRWig2FOH/U0MDnmhoOiCNG2EtXPPUU+ydCqylV4mS5+Izhc0eva5gMfqlY0mIlCRG5HMAfwNDwxwDc2p6kXBGZDOBeAJMANAGYD5ZJipNCp5UkOip+mIDtaBgDbNzodtetWcO2cJgBA42NDLVORZJsr16MdrOCD155hSHfn30WHdAQCnH+qqnJbRUBXK7CWnjvsssoQhbpnAvxyzxLRyLVlSQSLnWULVSgOh46MKSGxkZW9nYKkjVH0707S/EcOQJs3uxeVrytDBzI8OzTTuP39swztM727IkOaAiHKUr19e6K4+Ew69pNnw587nPcV0FBy8dN582M3iillmyWOlKUlOCXCdhco7aWbjNLjBYvpksMAAYPpuXRpw8X6jt4MH517UQQYYLrnDmMituzh9UZXnwRePLJ6G3DYdtVBtBCa2iglTVxIuehLrqIrrtk53u0bFDnRQUqR+hId3p+mYD1Ozt3uuePPvzQnosZN47utb176cb79FM+2kowyH2eeSavr2XLuDrso4+ySoMTEQYsWG48YyhGoRDnh048EbjwQhZR7d697X1KN2rJ+x8VqBwg139IXnH1ywRsqmnPTYQxLEzqdNdZhUoLClje56KLOH+0YoX9aCuhkG3tBAJMZt29G/j5zxnU4MSyeCw3nhXh1727HaV39tmcR2op78hvqCXvf1SgcoBc/iHFE9eO5rZJ9iaioYGrrToFyUo47d2b7z31VAY9WNu1h+7duSTEuecyt+iRR1jEFeAc0RJHbK63fp4xFLHyci4vcc45tN5yvYCqWvL+RwUqB8jlH1Iui2sytPY5q6spYpYYvf++nWM0fDhda/37s27ckiVct6g99OtHV9tZZzFQ4i9/YYmi119v/b3GMPz8mGNoHZ1yCi241oIZco2Oasl3JFSgkiBb80C5/EPKZXFNBu/nHDcOePZZW5D++U9aKoEAB/4vfhEoKeHrCxawaGlbEWEI+SmncN5n82YGM7z6KvCnPyW2jyFDgJkzGRQxfXrbghli4fe5045myWeS6mreUK1aZT9SjYaZJ0iuzwNlE78PUu3FWq780UeZB7RzJ+eKACajTp1Ka2bAAFZuePVV253XFoJBBiPMmcN5n+XLuc9PPrHnlVoiL48iedpp7NcJJ9Dtlyytfa/6m+kY7N/vFiFLlJxBOXl5XOp+xQoNM88KncVVlQ5y5S7VO+DGG4Ct5cot6+jddxlNB9C1NmMGB/6BA5m8+vLLXNW1rfeCwSAX45szhyK3eDGtrvvuS+z9JSW0jmbOZL8mTGCQRHtIRHz0N5M7GMObJqcAWY8dO+ztCguBigpeS2PH2o9hw3hNpbpklApUgnQWV1VnxTvg3nsv8LWv2f/ffTdFaNEi1rKrq+P7Ro0Czj+fojRoENcWeu216MKnyVBYyP0bQ3GaPBlYt45h5q0RCFDMTj6Zrrrp04HS0rb3JR6JiI/+ZvyHMUzmdgqQ9bBusgDWRRw7lnOjTiEaOpTXmJPDhxlRalUtSSXq4kuCju6q6sz86EfA977HATcY5I9xxQq31RMKAcceSzGaMYPW0k9/ymg4a8G+ttCrF8O8jzuOlRf+9CdG78XDGWXXo4dtsU2fzmCGLl2S70Oy13ai7jv9zWSH5ma64GIJkbPmYo8enC+1BGjMGD4PGhRtDe3ZQ+tqzRo+W39v3uz8nWipI6UD4JeBy1qu/LHHuPRDrAX3QiG2TZpEIXv3XU4Qt5WBAylIY8bwbvaNNzhnlchPcfRohnpb1tGoUe13q7R1rsgv32FnpqkJ2LQpWoTWrGHlEYt+/aJFaOxYun+d109zMwXHKUTWs9PCKizktVhRwf1ZzxMn6hyUkuNkc/K8rg6oqnLPHx04wLbevSkec+awaOk77wC//jVF5JZb2na8QIBukeOOY6Tc8uUMI//zn/nw4s1BCgSAq64CPv95Blv06tXy8doiGm2dK8qVucWOQEMDlyvxBiqsWeOus1haSqG44Qa3IPXp497fkSNMBF+wwC1Ea9fa7muA7xszhnUTnUI0ZEi0qy8dqEApGSeTk+f79jFyzhIk53LlY8YAl1xCF1lFBX+gv/oV8JvfsKJCWwiHmdc0YQKTYxcv5o9+06bW3ztokO2qKypiVfDZsxM/N20Vfp0r8g91dZxv9AYqrFvnjtAcOpTiM2eOW4i8paX27eO+/vxntzW0aZN9IyTCwsJjxvD6sYSooiJa2DKNCpSScdI1IBpD94SzOsPKlWwLhzk/89WvctDu0YOW1COPAA8/nFh4diwKC+lmGznSts7WrGl9wjgQ4HyW5aqbPp0FX9tDeyyhXM2zy1UOH+Y14nXNbdhgV38PBBgdN3YsVw22hGj0aPfqwdZ80+LF0W45ZzpDfj7fW1lJq9wSolGjeB37EZ2DUrJCWyblvds3NdFl5hSkzz5jW3ExrZEZMzh31NDA9mef5Y+5rZd9URF/0P37M99p1arEVp3t2dMtRlOmsFpDKtG8I/9x6FC0NbRqlTuwwCqy650j8gpHfT3dct75obVr3ddgr15ud5z1PHRo+msl6npQStrx2+S3c+ANhYBrruEPfPFiOyJp0CA7eGDQIN45vvMO85Cck7vJ0rs33R+FhcDWrcCWLe71jeIxahTF0RKk0aMz47P323fXWdi3L3Yy69at9jZ5eRQLb6DCiBFsszhwIHaQwsaN7mtv6NDYQtSnT/aWsFeBUtKKn+7CreXKf/pTYOFCd9uECRSAHj34wy0upl990SL3JG8yiDDaqaSEA8HWrXYARUvk57MagzV/NHVq8r57FRb/Ywywa1fsZNadO+3tunSxhcj5KC+3E6SN4fUVS4ic+7IqNHhFaNSo1FvgqUAXLFTSSray/1tarjwUovVhDP/++te5UN/f/tZyvlBriNBV160bRW3HDg4OzgEiFv36MRHWEqRJk9x3wMnip5sChdfZtm2xc4j27bO3Kyqi8Jx9tluInBFuR48y+m75cq5AbAmRNwy8Rw8Kz9lnu4WorKz9VT9ymU780ZVYZCqiq7GRi+I5BckqqdKzJwf/K66gi23/ftaaW7qUP2rvekWJEgzSssnLYx7TgQP2EunxCASYyOgUpMGD2+ZCiWclaUmg7NDcTJetV4RWr3Yns/bsyWvg4ovd80SlpfZ1cPAgRWfBArc1tGGDO7du8GA7DNwpRP36Zc8t52cyLlAichmA2wEMAbADwLXGmIUtv0vJlAsoXRFdNTXRy5Vbd5BlZQyXHTeO4mFFJN15J4Mb2ko4zLBbYyhIR4+2bh1ZWMm5113njphqKy1ZSRrmnV6ammhpe0Vo9Wp3cEFJCcXnqqvc80SWeFiW1erVXG3YKUTOG51wmEEP48czjcESIW/0ndI6GRUoETkNwI8BXArg7wByfMmzzJBpF1AqEjB37nRbR//4h71c+aRJwNVXM5ihsZEDxjvvAE88wfd6V3BNlLw8BjM0NlL8Gho4j9USAwbw3M6cyZD0++5jP42hqKZqQGnJSsp2mHdHmf+y3GneOaK1a93JrIMGUXi+9CW3RdS7N9sbGmj5rF7N2opOt5yzgkhxMd93+ulua6i8nCKltJ9MW1A/AHCnMcZav/OzDB8/J/G7C8i7XPnChRwoAC5yN3UqKzEUF9N1snQp84+OHOE2oZDbDZKoMIVCFKX6evvcWEm4sQgEOICcdRYj/qZNA/r2tdsXLwbmzUuPJdOalZStqgy5OP9VV0fR8QYqfPyxO5+trIzic/rpthBVVNjJrNXVtvC8/LJtDa1f795PaSnfd801biHq31/dcukmYwIlIkEAlQD+IiLrARQAeAHAt4wxRzzbzgUwFwCGDBmSqS76Fr+5gBYuBJ56igKxdWv0cuUnnshkwG3baNFs3EhRBSgS1mexSDRJNhzmvIElZo2NLb+3Sxd7mfMZM7gGUkvBDOm0ZLJtJcXDzzc/tbWxk1md4daBACt3jB0LXHCBO5m1a1fe7OzYQeFZupRWuiVEnzluj0MhhntXVAAXXuh2yxUXZ+fzKxkMMxeRgaDFtBTAeQAaAPwZwNvGmP+K975Uh5nnqjsjm/0+dIj14xYtAl56yb3sQ2kp3WP9+lEs1q1jaLjTt19YSCsnkfwhJ8Eg35PoJVpSwvNz3nkUyaFD/XeH67frzw8W1MGD8ZNZLUIhhlY7o+WscOuCAl57GzdGV9pes8Zdab5bt9i5Q8OHq1suFeRsHpSI9ASwDwyKeDTy2kUAbjPGHBPvfakUKD/8GNNNKgbAbdvc80fLltnLlffvb68Wa+UN7dpFERGh++TIEbcc/Y2cAAAgAElEQVTPP1G8hVIBHjOesImwiOqXvkRLqago+WNmEr9ef5kSzb17YyezOi2Z/Pz4yazhMOcF166Nzh36+GN3QM2AAbGFaOBA/920dCRyNg/KGLNfRLYCyFpmsJ/dGamgLQNgczN/5E5BsgqbWi6yq66iNbNtGwuvWliiVFREK8uYxBJbW8IrSNbfXbowOffiiymSmzcDs2bl1veX6PWXaSsrlfNfxtgloLxW0a5d9nZdulB4Zs2KTmYNBLitJUD3328LkXOZ8WCQlk9FBa1mpxh5i6YquUmmgyQeBvAfIvI30MX3NQB/zdTB/TaX0168A1kiA2B9PV10sZYr79uXy0LMmMHt1q/nfJM1f1Rezgio7dspRJZ/v60Eg9yHJULG2BZUr17s+xVXcBArKWn7cfxCItdfNqystgiiMbR8YiWz7t9vb1dcTOE591y3EA0ezH1s2mSLj7PitnMfXbvay4x73XL5+ak8E4rfyLRA3QWgD4B1AOoAPAPgh5k6eLonqjN55xtrIIs1AB44wG0tQXIuVz5iBPvZrRsHhI8+YnUGwL7DPeYYWk47dya2ZERL5OVxrsASJCvYIRDgXNZpp9FamzatfQOP3+Z5LBK5/jJt5bcmiNYCdrGSWZ0h1716MY/t8593C9GAAXT5Wm65xYtZPX71as5XOoNlSkooPJde6hai0tLM1DFU/IfW4msj3kEw03e+3iXK77oL+M53mED4xz/aC5wtX26XCBo/3q6CsH0755asAaK8nBPOhw8Dn3zCu+NkgxqcBIM85tGj0fNK+fm8+/3c5yhII0embl7Ar/M8iZLt6+jyyykKlntu9Wo7HQCge9UbqDB2LK1v75Lg1rMz2MFaQsI7N1RRwYoNSm6Ts3NQHYlYg0im73yd1lIgAMyfT1/9li1s79qVczZnn02Laf164J//5CMvj2HgF1/M8PCPP+b72mMhFRZSiOrr+dzUZFtIRUXsy1VXcQBM5/xArs8zptvKP3rUXrLBSpB2WrRWsvTgwRSemTOjF8TbvNkWnyeftMXIuyR4RQVLQ91wgy1EI0Yw6k5REqHDCVQm3DuxBsFMzG/V1XFFWMtdFwzaQvDRR7REKirsVTSXRNKhBwzgQHHuuZxkXrGCZYecAQ/JEAxSAOvr7Wg96y5bhHfTU6cCX/4ycOaZ6V+Dxkkmvod0X2OpCFo4coQuNK9r7uOP7RsHEVrO06bxO5o5kwvjVVQwYm7dOluI3nzTdss5q8X37cvtL7rIbRENHqxuOaX9dCgXX6bcI/GO05aBq6X3tLRc+bBhDFiw6oNt2MDXg0Fg8mTuq2dP+v4/+IB3vW112XXpwsHmyBF3xQeAbryBAzl/9B//wTJG2SadAuI3F2JNTexk1k2b3MmsI0ZEL/8wejS/01huuU8+cS8JXl4e2y1nlQdSFEBdfC2SKfdOPDdMsne+3sHuiSc4B/Tcc2yzwnKDQU5Cjx7NO9sNG5iUuHEjX58+Hbj+erpOli7le3/zm7YLUp8+DGaoqeGzd8XYsjLgyiuBm2/2Z3RdOssGZcuFaC1i5xUiy6UL8NoYNYpLyV95pS1Ew4czyMUSn3feAX73O/7vXBK8oIDX2PHHs6yPJUQjR/p3SXClY9OhBCqTYeTtHQSbmoA//IHuEmN4J3vRRe5tAgEK0J49HEh276bldOmlXCDPGA6QixaxllhbBCk/n8eoraUgNTe7C6x260ZLbOtWHi8YBObOZUBGS/g1kq69pPsa27MnOpF11So7ORqgkFRUMB3AGahQWkrLxxKiF15gEMTate5AB2tJ8PPPt0VozBiuY5RJd6yitEaHcvEB/h0Y58+nIInwrve999xhuiIUn88+c/v4e/ViCLgxFKwJE/j/1q1tEyRrPaSDB90Lpll96NmT4veVrwBnnMG78mTdWn5zg6Wa9l5jzvpwXovIadF07RpdUWHsWAYqOOeHrGenWw+gpRvLLecskKsoqURdfA5iDRSJWjbpFrLdu5kEu2gR8MorHHws+vXj4GGFdFvLOwQCwKmnAm+8wYEmGKRoLV3K9zU3MzQ8UUQ4Wd3QQFGrq3NbR1bpotmz6a6rrIw9sZ1sZFmuR9K1RqLXmLWsd6xkVmfFje7dKTz/9m/uiDljKESWCL3yCv92VmTIz7fdeldc4V4SvEuX1H92RckkOWtBtecuPdV3+NZy5QsX2gENa9eyLRy2E2GdFBYCU6Zw/mjaNPr9Fy+mlfX2262vYxSLggK6eQ4d4vG8lb7DYRZQPf98RtiNGJGeumSpPr9+tYotmpt5oxErmbWmxt6uT5/oQIURI2hJW8tHWNbQ2rWxlwS3Hs4lwdUtp/gFtaAitOcuvb13+C0tV961K62S8nK6644epVhYQhAKMV/p8suBv/6VSbWPPeaeY0iU3r0pSnv30jqqq7Oj+QA7F+WyyzhpPnBg8sdoC06Lq3dvu1RSW8TFT+7CxkaeX+8c0Zo17jmeAQMoPtddZwtRaSmtakuA3ngD+NWveGPjjIwcMoTf2Uknud1yuiS40hnJWYFqz2R1su9tabnyXr3oounblwNQbS3nmI49luvTWO6gjRsZWbd9O/Dd7zJ5MRksd1x+Pl08tbXuxEjAXdz1wguzm5lviUhr4tKadZQNd2F9vTuZ1Xp4S/MMGULxOfVU27Lp3t2eX1qzBnjmGT57lwQfNQqYOJEBL063nC4Jrig2OStQ7cm4j/Ve50BZXm7PHzmXKwcYVt2rF/+vq2OuUjjM9YemT+fjuOMoKM88Azz+OHDTTe7J70TIy+OdeFMTBeno0Wgrq0sXOwQ8GARuu6316LpM0pq4JGIdpTNqzqoR53XNrV/vTmYdNowCcvbZFKRRo/idf/qpLUTvvMNnp0vPWhL8jDPc0XLl5bSkFUVpmZz+mSQyWR3vDt36e/584PXXgTvvjE5CDYc5b9Czpz0ntHs373zPO4/7mD6dA059PfD008A3v8lyQs5IvETp35992LOHA7KzhpmIXVD1iivoAlq61D3A+606e2vikoh1lIrSP9bS3rGSWa0p2GDQTma9+GI+DxliV9y2hOjPf6abzzm/N2gQBei669xuOV0SXFHaR84GSSRCrDv0ykouN/HEE/GTWa0SQgDFaepU2zqaMoW15Q4fZkDDk09yf4cOJde34mIOXs7VPp2EQkywPPNM4AtfoFUWazLc7wEELfUv1fNL+/e73XLW395k1tGj3dFyffuyD+vXu0O3vUuCW6WknEEKo0f7f6FERckUObuibluprKw0v/pVVZsGYWelZqtcy7ZtrVs3FRW0hKZP5wAUCHDO54EHKEgrV7onxVsjEODcREEBrSPnyp9ORo1iQMNll7EPneHuuy0Cu3t37GRW5zxPQYE7f2j0aAawHD4cnUPkvLkoKoqdO6RLgitK63Q6gRozptJs3lyV8F22c7nyV1/lYGTRrRstJm/pnmCQYtDUxGPMn89B6Z57mI2/caN7cjxRiovjW1bdujGQYuJEziVZARUKMYaCEyuZ1VvpwmkNlZfbichWDtHq1bSOnDcGAwfGFiJdElxR2k6nCzOvro4/T9HczDDtZ5+lVbR2rb1kRChkFzm13Hj9+tl5R9Onc9+LFgEnn0wR+vnPmVg5c2Z0DlFLhEK88z561J274hSn3r0ZYXfhhVwHSYtsEmMYbBArmdXp/uzRgyJ0wQUUkwEDeGOxZ4+dQ/Tmm7GXBPeW9Rk9WpcEV5RcIOcsqHvvZRb+okUUK2e5oPx8e/mH/HzON1lzR9Om2YVNDx4E3noL+P3vGT6+b1/0onotEQ5T/GpqogMrLAYO5HE//3ngrLM0fLipKXYyqzfyrW9ft1vOCpXfvt2dzOqsxGAtCe61hkaM4DWjKEpm6HQuvpEjK820aVVYuJDWjWXZFBZSjJxBDuPHs6r39Olcqjwvj26dFSt4d/300xwUvS6+1giH+Yj3vkCArqWTTmIC7sknt2/J8lzDOY9UWRk/mdU59zdwoLvadteu/G63brXnhz7+2O1a7d8/thANGqRuOUXxA51OoEQqjUgV8vPtAS4U4ppH5eUM+7Xmjt54g6HY77/PeaS//Y0RXMkWVbUmw+MFM4RCDGiYPZsRdlOmdL5yM/X1nOP585+BH/yA4iJCsXZalUOH2vNDgwfjX9/jli22NRRrSXCnCFluOV0SXFH8TacUqD59qlxzR5WVdLEdPAg8+ihLBh08yDt1p7soUUIh95yTiNvlV1AAjBvHhMvLL+ffneWO/fDh2MmsGzbEdm/OnMkcsVCI83HOHKJ9++ztunSh6HitoZEjO5f1qSgdiQ4hUCIyEsByAM8ZY65sadsJEyrNRx9VobERWL6c1pG1XPn69cnNHVk4Aye8YgQw+m7SJOCcc1iKpqws+WPkGtXVsSPmnCurhkJ2MuvIkQxc2LKF4feWWIVCbsuzX7/YbjldElxROh4dRaBeA1AIYHNrAtW/f6UZMaIKVVV2AER7cIqTRe/etMouuIBRdsmuEuv3ZFkn+/dHV9xetcod/ZaXZyezlpVxfqi5me+1coicwgWw/FNFBS1cpxD16pXpT6goSrbI+TBzEbkMwAEA7wEY0dr2O3cyMbOty5d73XfNzZygP+EE4JJLaCUVF7dt34C/qm1bGGMns3qtIqvqOsBAkzFj6JYbMID/NzTwvWvX8rM4c46sJcFPOIFLglsiNGoU2xRFUVJJRgVKRIoB3AlgNoC49bxFZC6AufzvuITFKRDgwytI5eVcHvuyy4BZs1I7mGZzcb733gNefJHiAriFyFnpvKiI1tDpp9sr6tbVMXR7zRrg+efdlTH69KHwXHih2xoaOlTdcoqiZI5MW1B3AXjQGPOptBBlYIyZB2AewCCJeNuFwxQga/7DWoW2ooJCdPnlrKOXzsrR6ay2bdHcHJ3M+v77LLnkpGdPBnCcey4TUYNBBjl8+iktog8+cM+9DR1K8Zk92y1Effqk/jMoiqIkS8YESkQmA5gD4Ji2vd/Oa7IG2YYGWkMTJ9I6uOwy/p3Ju/xUVNu2aGpi1FusZFZnhYqSEvdy3iIM6igqohAtWmS3WUuCH3ccq6A73XK6JLiiKH4mY0ESIvI1AD8EYNV+6AYgCGC1MebY+O+rNIBdzbyoCJgwwY6wGzYs90K+GxoYgRgrmdUZCFJaSjEZMIBiYgUqbNpE68m5rXVevNFyuiS4oiiZImej+ESkCwBnOMI3AZQBuNEYE3c5v1Co0syaVYXzz2cNO2u+JReoq7MLlnpXZnXOk5WVMWy7b19aPA0NDE7YsCH2kuCW+OTnU7DOP5+L6eWaUCuK0rHI2Sg+Y8xhAP8qFiQiNQDqWhIngBUjXnst3b1rH4cPx14Qb8MG2x0ZCLCkT3k53ZChEAVs506W9Hn9dXt/eXkUrEmTaCVagmQtGaEoipIJGhtZBGH/fta/dD5ivZZqslbN3BhzR7aOnSje/KZDh2Ins27e7E5mHTmSQjRpEt1rNTWMmFu3jmJk0b07xeess9xuOV0SXFGUVNDczHGrJWFpSXxaq8wTDDJh33qkmg4/DLYliXbfPuCZZ4BbbrFrzPXuzfwgi/x8CtHIkSxMawwvhK1bKUKrV9vbDhpE8bnuOvccUUmJuuUURYmPMQyQak1I4v1/8GDr1Xa6d6e49OzJ5+HD3f87H97XunVzj2GpHs86tEC1lERrDLBrV+xk1p073fsxhsm8U6dyPmjfPlpNK1bwAdiW0/jxwMUXu91yuiS4onRe6upaF5KWxCfekj4W3bq5RWPwYAZMtSQs1v9FRf4OourQAuVMoq2vB374Q0bGWULkLF5aXEzX2vjxDMnetQtYutS++9iwgY+iIorP6ae73XLDhrW8JHgulUNSFMWmoSExIYn3f2sl2goK3KLRt69d6zKesFiP7t1bHndynQ4jUM3NLFzqTWZ1JvG+9BK/4LIyzg+FQgxw2LmTteWWLbP3N3AghSoUYn25c86xQ76TNWP9WA5JUToLTU10v7fVimlt/bhQKFo4hg5t3T3WsycFRsuExSfnBKqpiaHX3oKnq1e7L6R+/WgtTZ5MP2w4zIrd27fzogNo2o4YEe2Wq6hoX30+L9ksh6QouY4x/O221Yo5dKjl/YtEi8jo0a27x6xHly46l5wufC9Q+/cDd91li9HatW6TuX9/Po49llbSwYO0pHbt4gOgj7aigkVOnW654cMzsyR4JsohKYpfMYa1HhOxWmKJz4EDrReLLipyC0dZWWKT/D17cnzQGpP+JCcWLASqUFpK32xhIQf6ffsYMedce6h//+iVWCsqaEll+w5H56CUXKa+PvFJ/Vj/x1ud2qJLl/gi0poVU1ysaRl+IWcrSbSVcLjSNDbapY6shFdvSZ+KivTE4StKRyCZhMtY2zir3cciHKZotOYOi/daJjwZSvrJ2UoSbaW4GPj6120hGjFClwRXOh+ZTrjs2ZOeh0StmIKC7HsplI6H7wWqvBy47bZs90JR2keuJVwqih/wvUApil/QhEtFySwqUEqnQRMuFSW3UIFScgZNuFSUzoUKlJIxNOFSUZRkUIFSEsZKuGxrqLImXCqKkgwqUJ2M1hIuWxOfZBMuBwxgioAmXCqKkiw6HOQYmU647NmTof6acKkoSqZRgcowmnCpKIqSGCpQSZKphEunaMRLuIxlwWjCpaIoHYWMCZSI5AP4DYA5AHoBWA/gu8aYVzLVBwtNuFQURfE/mbSgQgA+BXAygC0AzgbwjIhMMMZ8ksyONOFSURSl45MxgTLG1AK4w/HSX0VkE4DjAHwS733r1wMzZmjCpaIoSmcja3NQIlICYBSAlTHa5gKYCwDh8CTk52vCpaIoSmcjK+tBiUgYwCsANhhjvtzStpWVlaaqqqqlTRRFURQfkOr1oDKedy8iAQCPAzgK4OZMH19RFEXJDTLq4hMRAfAggBIAZxtjWqlLoCiKonRWMj0H9VsAYwDMMca0UtNAURRF6cxkzMUnIkMBfBnAZAA7RKQm8rgiU31QFEVRcodMhplvBqCxdYqiKEpCaKkjRVGUDoYxrHjT3Mxn58P7Wiq3STUqUIqipB1rwMz0oJnuAdmvnyML2UNpQQVK6ZQ4B0y/DzZ+3SaZ9+XygBkIsD5mMOj+O9b/yW6Tn5/4ftJx/FRvM3lyas+9CpRPaG7OncHGz9sk+r5cprWBoz2DjTVgdqRBsz37DgS0Kk028b1A7d0LPPigfwfEVA2auUw6B5tQKLMDkt8HTREdMJXOQ1ZKHSWDSKUBkit11JEGJL/3MZDxWiSKoviVVJc68r0FNX488NJLiQ+aOmAqiqJ0DHwvUPn5wJAh2e6FoiiKkmnU3lAURVF8iQqUoiiK4ktUoBRFURRfogKlKIqi+BIVKEVRFMWXqEApiqIovsT3YeaoqQHmz3cnPfXpA4wYwfZVq/jsbC8uBnr35uu7d0cnTuXlsUSBoiiK4lt8X0miMi/PVDV4Voa/9FLgj3/k30VFFDEnX/wi8MAD/DtWXZivfx342c+A2lqgW7doAfvud/nYtQuYODE6G/g73+ExtmwBzjsvOmP4298Gzj8f+Phj4KaborOKv/Y1YOZMYM0a4O67o9tvvBGYNIni++CD0e3XXguUlwOrVwMvvhjdfvHFQL9+wLp1wJIl0dnNp5/O87ZpE7B2bfTnO/54JqBt3w7s2BH9+YYP598HD/Iceo9fVMTzbtVw0oJmitIp6HSVJDB8OPDb37oL1/Xvb7c/9hhw9Ki7feRIthkD3HdfdGG8ysj5C4WA730vujDesceyPS+PQuMtnjdgANuDQQqFt8CeZZ01NgLV1dHHtwT14EFg8eLo9gsvpEBt3gz87nfRRfxOPZXH/cc/KIZeTjiBAjV/PvDv/x7dvnYtReT//g/41rei2z/7DBg4ELj/fuDOO6PbDx3i+++8k0LvxVoY5sYb7RsFS/y6d6dVC1Dk//Qnt7gNGAB88IH9/gUL3O3l5cBzz7H9a18DPvrILa6jRwM//znbb72V59AprmPH2p/5rruAPXvc+x87Frj6arbfey9w+LC7fcwY4Mwz2f7II/xOnO0jRwJTprD9L3+JvvkZOpTWf1MTP6f35qGkhN9dYyPw6afRNw9FRUBhIc9xXZ1733oToHQw/G9BVVaaqqrkavF1aKzvS4SDWH19tMD16gWEwxSS3bujBXj0aNtC+uSTaAE+6SS2r1nDh1eAL72UIrxkCbBsWbSAfuMb7ONf/wp8+KG7PRy2Re+RR4CqKnd7cbEtMP/zP8DSpe72gQOBefPYfsstFGln3ysqgMcfZ/vnPgesWOHu+9SpwDPPsL2yEli/3r3/c84Bnn+e7f37Azt3us//F74APPkk/+7alQLm5MtfprA3N1M0vHzzm8D//i9vTnr0iG6/4w7g9tuBrVuBwYOj23/6U57fNWsoll4eeIDCv3QpcMop0dbtb38LXHABb4yuvDK6/b77+P2/8w4F3tv+k5/Qq7BgAfCLX0QL8F13AWVlfP9TT0UL8K230kW/aBHw+uvRAnzTTTyv77/Pz+C13r/wBV5Dy5bxu/P274wzeB7WraMHxOvanzCB7du28UbR215SwvaaGn6HseqqKXHpfBaU4sZ5lxwKtTyXVlzMRzwGDLCtwVhUVPARj6lT+YjHuefyEY9rr+UjHrfeGr8NAH75y5bbLaGJR2s3Plu3Rou/83x//DFvErwCC/B78oprUxNQWsr2Ll2Al1+OvnkYO5btPXsCDz8cffNw4ols79uXAu69ObAW5OnbF/jSl+Ifv7gYmDYtur1LF7YHgxQK63XrRsiyjquro8W9qckW7I0baaF7P99XvkKBeu+92Nb5tdfyuC++CPzwh9Htl1xCgXrooejvPxCw3co//jG3cVJczBsDgNb3s8+620tL+Z0DwOc/D7zyiru9ooJudQCYNYsi7xTXKVOA115j+5ln8ibCKa7Tp9t9uuACiqRT+E46iS5/ALjiCt5gOttPPpkCDtAz0tjobp85k+enuRn4r/+KFtfp09nvujreqHhvHqZMAY45ht/hCy9E3zxMmAAMG0a3vjV14HX9pxi1oBRFyQ7G2AJmPRcWcrCrraUV4xXgsjK2b99O74C3fdo07nvVKrqqne3BIC1kgBbc5s3u9sJCCgNA1/OmTdGeiRtvZPv991OEnQI8ZAgtZAD4/vc5R+18/7hxfB0AbriBAuVsP/FEW5RPO41rDTnbzzsPuOceto8cSSFxtl9/PS3chgbOrVuvW3z727yp2bfPDiJzcvfdFLbNm3mevdx7L/DVrwIrV7KKt5cHH4TccENKLaiMCpSI9ALwIIDTAewB8B1jzB9aeo8KlKIoSjuwlo8G6AFobqZ15rVui4poZTY0UHy9rv3SUrpAa2ujvQPNzcD48ZAhQ3LaxfdrAEcBlACYDOAlEVlmjFmZ4X4oiqJ0DkTcrulAIPb8p0U4zHnqeHTtSndiBshYoq6IdAVwEYDvGWNqjDGLAPwFwFWZ6oOiKIqSO2TSghoFoMkYs87x2jIAJ3s3FJG5AOZG/q0XkRUZ6F+q6QO6MXOJXOwzkJv9zsU+A7nZ71zsM5Cb/W7B9EqeTApUNwAHPa8dBFDk3dAYMw/APAAQkapU+jQzRS72Oxf7DORmv3Oxz0Bu9jsX+wzkZr9FJKUBA5msxVcDwBvzXAygOoN9UBRFUXKETArUOgAhERnpeG0SAA2QUBRFUaLImEAZY2oBPA/gThHpKiInAjgfwOOtvHVe2juXHnKx37nYZyA3+52LfQZys9+52GcgN/ud0j5nIw/qIQCnAdgL4NbW8qAURVGUzonvK0koiqIonRNdsFBRFEXxJSpQiqIoii/JikCJSC8R+ZOI1IrIZhH5QpztRER+LCJ7I497ROxy3iIyWUSWisjhyPNkH/T5WyKyQkSqRWSTiHzL0/6JiBwRkZrI47V09TnJft8hIg2OftWIyDBHux/P9Sue/h4VkeWO9oydaxG5WUSqRKReRB5pZduvi8gOETkoIg+JSL6jrUxE5kfO8xoRmZOuPifTbxG5JvK9HxKRrZHfYsjR/raI1DnO9Vof9PlaEWnyXCOnONr9eq7v9/S5XkSqHe2ZPNf5IvJg5HdYLSL/EJGzWtg+tde2MSbjDwBPAXgaTN6dASbsjoux3ZcBrAUwCEApgFUA/j3SlgdgM4CvA8gHcEvk/7ws9/k/ARwLJkGPjvTpMkf7JwDm+PBc3wHgiTj78OW5jvG+twF8PxvnGsDnAFwA4LcAHmlhuzMA7AQwDkDPSJ//x9G+GMDPABSCpcEOAOjrg37fCOCkyLVQCmApGOTkPPdf9Nm5vhbAohbafXmuY7zvEQAPZelcd42MDWWgQXMumLtaFmPblF/baf+AcT7wUQCjHK897vwgjtffAzDX8f8NAJZE/j4dwGeIBHpEXtsC4Mxs9jnGe38J4FeO/zM5aCZzru9AfIHy/bmO/ICaAJRn41w7jnl3K4PmHwD8t+P/2QB2RP4eBaAeQJGjfSEiN2XZ7HeM7b8B4EXH/xkbNJM419cijkDlyrmO/B6qAZyczXPt6dNHAC6K8XrKr+1suPji1eQbF2PbcZG2WNuNA/CRiXzSCB/F2U97SabP/0JEBLzr9CYjPykiu0XkNRGZlNquuki23+eJyD4RWSkiNzpe9/25BnA1gIXGmE2e1zN1rhMl1jVdIiK9I20bjTHVnvZ0nOf2MhPR1/WPRGSPiLzrdKVlmWMifVonIt9zuCVz5VxfBGA3gHc8r2flXItICfgbjVVgIeXXdjYEKuGafDG2PQigW2TgT2Y/7aWtx7oDPMcPO167ArzbHwpgPoBXRaSF2vftIpl+PwNgDIC+AL4E4Psicnkb9tNe2nqsq0FXiJNMnutEiXVNA/x8mTzPbUZErgNQCeAnjpe/DWAY6P6bB+BFEUn9EqvJ8Q6A8QD6gQP95QCsOeGcOODV0pYAAATgSURBVNcArgHwmOfmMCvnWkTCAJ4E8KgxZk2MTVJ+bWdDoJKpyefdthhATeTLymRtv6SPJSI3g4PmOcaYeut1Y8y7xpgjxpjDxpgfgX7Yk9LQZyCJfhtjVhljthljmowx7wH4BYCLk91PCmjLuZ4BoD+A55yvZ/hcJ0qsaxrg5/N9vUoRuQDA/wA4yxjzr0rbxpj3jTHVxph6Y8yjAN4FcHa2+hnp00ZjzCZjTLMxZjmAO5Gda7pNiMhgcLWHx5yvZ+Nci0gAdLUfBXBznM1Sfm1nQ6CSqcm3MtIWa7uVACZGrCmLiXH2016SqiMoItcDuBXAbGPM1lb2bQBIK9u0lfbUP3T2y7fnOsI1AJ43xtS0su90nutEiXVN7zTG7I20DRORIk+7L+pVisiZAB4AcF5kwG8JP5xrL95r2rfnOsLVAN4zxmxsZbu0nuvI7/5BcKHZi4wxDXE2Tf21naVJtj+CkVpdAZyI+JFl/w5gNWjKDox8GG8U31fByLKbkd7IskT7fAWAHQDGxGgbEnlvHoAC0N2wG0BvH5zr88HIGwFwPBgUcY2fz3Vk20LQMpqVzXMNRm0WAPgReKdZACAUY7szI9fH2Mj5fgvuSKcloOusAMCFSH9kWaL9ngWWJ5sZo60HGMFVENnfFQBqAYzOcp/PAlAS+bsCwAoAt/v9XDu2Xwvg+mye68gx74+cq26tbJfyazstHyiBD9wLwAuRE7sFwBcir58EuvCs7QTAPQD2RR73wB1JdgwY7noEwIcAjvFBnzcBaABNWutxf6RtHBhcUBv5sb8JoNIn5/qpSJ9qAKwBcItnP74715HXLgfFUjyvZ/Rcg/ONxvO4AxTKGgBDHNt+AwzHPQTOT+Y72srAKK0j4ACV1ijERPsNzuE1eq7rVyJtfQF8ALprDoAD0Wk+6PNPIue5FsBG0MUX9vu5jmw7LdLvIs8+Mn2uh0b6Wef57q/IxLWttfgURVEUX6KljhRFURRfogKlKIqi+BIVKEVRFMWXqEApiqIovkQFSlEURfElKlCKoiiKL1GBUhRFUXyJCpSiKIriS1SgFEVRFF+iAqUoaUBECiNLo29xLnsdaft9ZCnyy7LVP0XJBVSgFCUNGGOOALgdwGAAX7FeF5EfgStD/4cx5o9Z6p6i5ARai09R0oSIBMFVQ/uBC8x9EcDPwYrad2azb4qSC6hAKUoaEZFzAbwIVlOfBeA+Y8wt2e2VouQG6uJTlDRijPkruDzJbABPg2tquRCRm0Tk7yJSJyJvZ7iLiuJbQtnugKJ0ZETk8wAmR/6tNrFdFtvBZdSngOsAKYoCFShFSRsicjq4cuqfwEUsrxeRnxtjVju3M8Y8H9l+SOZ7qSj+RV18ipIGROQEAM8DeBdcffQ2AM3gct+KoiSACpSipBgRGQPgJQDrAFxgjKk3xmwA8CCA80XkxKx2UFFyBBUoRUkhETfdawAOAjjLGHPI0XwngCMA7slG3xQl19A5KEVJIcaYLWBybqy27QC6ZLZHipK7qEApSpYRkRD4WwwBCIhIAYBmY8zR7PZMUbKLCpSiZJ/bwLJIFkcALABwSlZ6oyg+QStJKIqiKL5EgyQURVEUX6ICpSiKovgSFShFURTFl6hAKYqiKL5EBUpRFEXxJSpQiqIoii9RgVIURVF8yf8HCVGsrsjEQp4AAAAASUVORK5CYII=\n",
      "text/plain": [
       "<Figure size 432x288 with 1 Axes>"
      ]
     },
     "metadata": {},
     "output_type": "display_data"
    }
   ],
   "source": [
    "theta_path_sgd = []\n",
    "m = len(X_b)\n",
    "np.random.seed(42)\n",
    "\n",
    "theta_path_sgd = []\n",
    "n_epochs = 50\n",
    "t0, t1 = 5, 50 # learning schedule hyperparameters\n",
    "\n",
    "def learning_schedule(t):\n",
    "    return t0/ (t + t1)\n",
    "\n",
    "theta = np.random.randn(2,1) # random initialization\n",
    "\n",
    "for epoch in range(n_epochs):\n",
    "    for i in range(m):\n",
    "        if epoch == 0 and i < 20:\n",
    "            y_predict = X_new_b.dot(theta)\n",
    "            style = \"b-\" if i > 0 else \"r--\"\n",
    "            plt.plot(X_new, y_predict, style)\n",
    "            \n",
    "        random_index = np.random.randint(m)\n",
    "        xi = X_b[random_index:random_index+1]\n",
    "        yi = y[random_index:random_index+1]\n",
    "        gradients = 2 * xi.T.dot(xi.dot(theta) - yi)\n",
    "        eta = learning_schedule(epoch * m + i)\n",
    "        theta = theta - eta * gradients\n",
    "        theta_path_sgd.append(theta)\n",
    "\n",
    "plt.plot(X, y, 'b.')\n",
    "plt.xlabel(\"$x_1$\", fontsize = 18)\n",
    "plt.ylabel(\"$y$\", rotation = 0, fontsize = 18)\n",
    "plt.axis([0,2,0,15])\n",
    "save_fig(\"sgd_plot\")\n",
    "plt.show()"
   ]
  },
  {
   "cell_type": "code",
   "execution_count": 25,
   "metadata": {},
   "outputs": [
    {
     "data": {
      "text/plain": [
       "array([[4.21076011],\n",
       "       [2.74856079]])"
      ]
     },
     "execution_count": 25,
     "metadata": {},
     "output_type": "execute_result"
    }
   ],
   "source": [
    "theta_path_sgd[-1]"
   ]
  },
  {
   "cell_type": "code",
   "execution_count": 26,
   "metadata": {},
   "outputs": [
    {
     "data": {
      "text/plain": [
       "array([[4.21076011],\n",
       "       [2.74856079]])"
      ]
     },
     "execution_count": 26,
     "metadata": {},
     "output_type": "execute_result"
    }
   ],
   "source": [
    "theta"
   ]
  },
  {
   "cell_type": "markdown",
   "metadata": {},
   "source": [
    "Using SGDRegressor"
   ]
  },
  {
   "cell_type": "code",
   "execution_count": 27,
   "metadata": {},
   "outputs": [
    {
     "name": "stderr",
     "output_type": "stream",
     "text": [
      "C:\\Users\\Playdata\\AppData\\Local\\Continuum\\anaconda3\\lib\\site-packages\\sklearn\\linear_model\\stochastic_gradient.py:117: DeprecationWarning: n_iter parameter is deprecated in 0.19 and will be removed in 0.21. Use max_iter and tol instead.\n",
      "  DeprecationWarning)\n",
      "C:\\Users\\Playdata\\AppData\\Local\\Continuum\\anaconda3\\lib\\site-packages\\sklearn\\utils\\validation.py:578: DataConversionWarning: A column-vector y was passed when a 1d array was expected. Please change the shape of y to (n_samples, ), for example using ravel().\n",
      "  y = column_or_1d(y, warn=True)\n"
     ]
    },
    {
     "data": {
      "text/plain": [
       "SGDRegressor(alpha=0.0001, average=False, epsilon=0.1, eta0=0.1,\n",
       "       fit_intercept=True, l1_ratio=0.15, learning_rate='invscaling',\n",
       "       loss='squared_loss', max_iter=None, n_iter=50, penalty=None,\n",
       "       power_t=0.25, random_state=None, shuffle=True, tol=None, verbose=0,\n",
       "       warm_start=False)"
      ]
     },
     "execution_count": 27,
     "metadata": {},
     "output_type": "execute_result"
    }
   ],
   "source": [
    "from sklearn.linear_model import SGDRegressor\n",
    "sgd_reg = SGDRegressor(n_iter = 50, penalty=None, eta0=0.1)\n",
    "sgd_reg.fit(X,y)\n",
    "\n"
   ]
  },
  {
   "cell_type": "code",
   "execution_count": 28,
   "metadata": {},
   "outputs": [
    {
     "data": {
      "text/plain": [
       "(array([4.23166744]), array([2.79099659]))"
      ]
     },
     "execution_count": 28,
     "metadata": {},
     "output_type": "execute_result"
    }
   ],
   "source": [
    "sgd_reg.intercept_, sgd_reg.coef_"
   ]
  },
  {
   "cell_type": "markdown",
   "metadata": {},
   "source": [
    "# Mini-batch Gradient Descnt\n",
    "\n",
    "Mini-batch GD 는 전체에서 랜덤이 아닌 부분적으로 랜덤으로 최적 값을 찾습니다. \n",
    "Stochastic GD 보다 더 좋은 장점 중 주요는 행렬연산의 하드웨어 최적일때 성능향상을 기대할 수 있습니다. 특히 GPU를 이용 할떄요."
   ]
  },
  {
   "cell_type": "code",
   "execution_count": 29,
   "metadata": {},
   "outputs": [],
   "source": [
    "theta_path_mgd =[]\n",
    "\n",
    "n_iterations = 50\n",
    "minibatch_size = 20\n",
    "\n",
    "np.random.seed(42)\n",
    "theta = np.random.randn(2,1)\n",
    "\n",
    "t0,t1 = 200, 1000\n",
    "\n",
    "def learning_schedule(t):\n",
    "    return t0 / (t + t1)\n",
    "\n",
    "t = 0\n",
    "for epoch in range(n_iterations):\n",
    "    shuffled_indices = np.random.permutation(m)\n",
    "    X_b_shuffled = X_b[shuffled_indices]\n",
    "    y_shuffled = y[shuffled_indices]\n",
    "    for i in range(0, m, minibatch_size):\n",
    "        t+=1\n",
    "        xi = X_b_shuffled[i:i+minibatch_size]\n",
    "        yi = y_shuffled[i:i+minibatch_size]\n",
    "        gradients = 2/minibatch_size * xi.T.dot(xi.dot(theta)- yi)\n",
    "        eta = learning_schedule(t)\n",
    "        theta = theta - eta * gradients\n",
    "        theta_path_mgd.append(theta)"
   ]
  },
  {
   "cell_type": "code",
   "execution_count": 30,
   "metadata": {},
   "outputs": [
    {
     "data": {
      "text/plain": [
       "array([[4.25214635],\n",
       "       [2.7896408 ]])"
      ]
     },
     "execution_count": 30,
     "metadata": {},
     "output_type": "execute_result"
    }
   ],
   "source": [
    "theta"
   ]
  },
  {
   "cell_type": "code",
   "execution_count": 31,
   "metadata": {},
   "outputs": [],
   "source": [
    "theta_path_bgd = np.array(theta_path_bgd)\n",
    "theta_path_sgd = np.array(theta_path_sgd)\n",
    "theta_path_mgd = np.array(theta_path_mgd)"
   ]
  },
  {
   "cell_type": "code",
   "execution_count": 32,
   "metadata": {},
   "outputs": [
    {
     "name": "stdout",
     "output_type": "stream",
     "text": [
      "Saving figure gradient_descent_paths_plot\n"
     ]
    },
    {
     "data": {
      "image/png": "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\n",
      "text/plain": [
       "<Figure size 504x288 with 1 Axes>"
      ]
     },
     "metadata": {},
     "output_type": "display_data"
    }
   ],
   "source": [
    "plt.figure(figsize=(7,4))\n",
    "plt.plot(theta_path_sgd[:, 0], theta_path_sgd[:, 1], \"r-s\", linewidth=1, label=\"Stochastic\")\n",
    "plt.plot(theta_path_mgd[:, 0], theta_path_mgd[:, 1], \"g-+\", linewidth=2, label=\"Mini-batch\")\n",
    "plt.plot(theta_path_bgd[:, 0], theta_path_bgd[:, 1], \"b-o\", linewidth=3, label=\"Batch\")\n",
    "plt.legend(loc=\"upper left\", fontsize=16)\n",
    "plt.xlabel(r\"$\\theta_0$\", fontsize=20)\n",
    "plt.ylabel(r\"$\\theta_1$   \", fontsize=20, rotation=0)\n",
    "plt.axis([2.5, 4.5, 2.3, 3.9])\n",
    "save_fig(\"gradient_descent_paths_plot\")\n",
    "plt.show()"
   ]
  },
  {
   "cell_type": "markdown",
   "metadata": {},
   "source": [
<<<<<<< HEAD
    "# Polynomial Regression"
=======
    "# Polynomial regression"
>>>>>>> 13e34790b339ec831705821c3e19741db0d3116b
   ]
  },
  {
   "cell_type": "code",
   "execution_count": 33,
   "metadata": {},
   "outputs": [],
   "source": [
<<<<<<< HEAD
=======
    "import numpy as np\n",
    "import \n",
>>>>>>> 13e34790b339ec831705821c3e19741db0d3116b
    "np.random.seed(42)"
   ]
  },
  {
   "cell_type": "code",
<<<<<<< HEAD
   "execution_count": 34,
=======
   "execution_count": 37,
>>>>>>> 13e34790b339ec831705821c3e19741db0d3116b
   "metadata": {},
   "outputs": [],
   "source": [
    "m = 100\n",
<<<<<<< HEAD
    "X = 6 * np.random.rand(m, 1) - 3\n",
    "y = 0.5* X**2 + 2 + np.random.randn(m, 1)"
=======
    "X = 6 * np.random.rand(m,1) -3\n",
    "y = 0.5 * X**2 + X +2 + np.random.randn(m,1)"
>>>>>>> 13e34790b339ec831705821c3e19741db0d3116b
   ]
  },
  {
   "cell_type": "code",
<<<<<<< HEAD
   "execution_count": 35,
   "metadata": {},
   "outputs": [
    {
     "data": {
      "text/plain": [
       "(100, 2)"
      ]
     },
     "execution_count": 35,
     "metadata": {},
     "output_type": "execute_result"
    }
   ],
   "source": [
    "X_b = np.c_[np.ones((100, 1)), X]\n",
    "X_b.shape"
   ]
  },
  {
   "cell_type": "code",
   "execution_count": 36,
=======
   "execution_count": 38,
>>>>>>> 13e34790b339ec831705821c3e19741db0d3116b
   "metadata": {},
   "outputs": [
    {
     "data": {
<<<<<<< HEAD
      "image/png": "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\n",
=======
      "image/png": "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\n",
>>>>>>> 13e34790b339ec831705821c3e19741db0d3116b
      "text/plain": [
       "<Figure size 432x288 with 1 Axes>"
      ]
     },
     "metadata": {},
     "output_type": "display_data"
    }
   ],
   "source": [
<<<<<<< HEAD
    "plt.plot(X,y, 'b.')\n",
    "plt.xlabel('$x_1$', fontsize = 18)\n",
    "plt.ylabel('$y$', rotation=0, fontsize = 18)\n",
=======
    "plt.plot(X,y,'b.')\n",
    "plt.xlabel('$x_1$', fontsize = 18)\n",
    "plt.ylabel('$y$', rotation = 0, fontsize = 16)\n",
>>>>>>> 13e34790b339ec831705821c3e19741db0d3116b
    "plt.axis([-3,3,0,10])\n",
    "plt.show()"
   ]
  },
  {
   "cell_type": "code",
<<<<<<< HEAD
   "execution_count": 37,
   "metadata": {},
   "outputs": [],
   "source": [
    "theta = np.random.randn(2,1) # random initialization\n",
    "\n",
    "for iteration in range(n_iterations):\n",
    "    gradients = 2/m * X_b.T.dot(X_b.dot(theta) - y)\n",
    "    theta = theta - eta * gradients"
   ]
  },
  {
   "cell_type": "code",
   "execution_count": 38,
   "metadata": {},
   "outputs": [
    {
     "data": {
      "text/plain": [
       "(100, 2)"
      ]
     },
     "execution_count": 38,
     "metadata": {},
     "output_type": "execute_result"
    }
   ],
   "source": [
    "X_b.shape"
   ]
  },
  {
   "cell_type": "code",
   "execution_count": null,
   "metadata": {},
   "outputs": [],
   "source": []
  },
  {
   "cell_type": "code",
   "execution_count": 39,
   "metadata": {},
   "outputs": [
    {
     "data": {
      "text/plain": [
       "(2, 1)"
      ]
     },
     "execution_count": 39,
     "metadata": {},
     "output_type": "execute_result"
    }
   ],
   "source": [
    "X_new = np.array([[0], [2]])\n",
    "\n",
    "y_predict = X_new_b.dot(theta_best)\n",
    "y_predict.shape"
   ]
  },
  {
   "cell_type": "code",
   "execution_count": 40,
   "metadata": {},
   "outputs": [
    {
     "data": {
      "image/png": "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\n",
      "text/plain": [
       "<Figure size 432x288 with 1 Axes>"
      ]
     },
     "metadata": {},
     "output_type": "display_data"
    }
   ],
   "source": [
    "theta_path_sgd = []\n",
    "m = len(X_b)\n",
    "np.random.seed(42)\n",
    "n_epochs = 50\n",
    "t0, t1 = 2, 50 # learning schedule hyperparameters\n",
    "\n",
    "def learning_schedule(t):\n",
    "    return t0/ (t + t1)\n",
    "\n",
    "theta = np.random.randn(2,1) # random initialization\n",
    "\n",
    "for epoch in range(n_epochs):\n",
    "    for i in range(m):\n",
    "        if epoch == 0 and 10 < i < 20:\n",
    "            y_predict = X_new_b.dot(theta)\n",
    "            style = \"b-\" if i > 0 else \"r--\"\n",
    "            plt.plot(X_new_b, y_predict, style)\n",
    "            \n",
    "        random_index = np.random.randint(m)\n",
    "        xi = X_b[random_index:random_index+1]\n",
    "        yi = y[random_index:random_index+1]\n",
    "        gradients = 2 * xi.T.dot(xi.dot(theta) - yi)\n",
    "        eta = learning_schedule(epoch * m + i)\n",
    "        theta = theta - eta * gradients\n",
    "        theta_path_sgd.append(theta)\n",
    "\n",
    "plt.plot(X, y, 'b.')\n",
    "plt.xlabel(\"$x_1$\", fontsize = 18)\n",
    "plt.ylabel(\"$y$\", rotation = 0, fontsize = 18)\n",
    "plt.axis([-3,3,0,15])\n",
    "\n",
    "plt.show()"
   ]
  },
  {
   "cell_type": "code",
   "execution_count": 41,
=======
   "execution_count": 43,
>>>>>>> 13e34790b339ec831705821c3e19741db0d3116b
   "metadata": {},
   "outputs": [
    {
     "data": {
      "text/plain": [
<<<<<<< HEAD
       "array([-0.75275929])"
      ]
     },
     "execution_count": 41,
=======
       "array([[ 1.76886782],\n",
       "       [ 0.01582256],\n",
       "       [ 0.46142331],\n",
       "       [-0.04489384],\n",
       "       [-1.82854207],\n",
       "       [ 1.33471269],\n",
       "       [-1.31536583],\n",
       "       [-2.8541042 ],\n",
       "       [ 0.87283378],\n",
       "       [-1.93733592],\n",
       "       [ 2.64275151],\n",
       "       [ 2.72357146],\n",
       "       [ 2.48918634],\n",
       "       [-0.7790478 ],\n",
       "       [-2.9072603 ],\n",
       "       [ 2.56991138],\n",
       "       [-0.43089511],\n",
       "       [ 2.79992891],\n",
       "       [ 2.78171986],\n",
       "       [ 2.11805673]])"
      ]
     },
     "execution_count": 43,
>>>>>>> 13e34790b339ec831705821c3e19741db0d3116b
     "metadata": {},
     "output_type": "execute_result"
    }
   ],
   "source": [
    "from sklearn.preprocessing import PolynomialFeatures\n",
<<<<<<< HEAD
    "poly_features = PolynomialFeatures(degree=4, include_bias=False)\n",
    "X_poly = poly_features.fit_transform(X)\n",
    "X[0]"
=======
    "poly_features = PolynomialFeatures(degree = 2, include_bias = False)\n",
    "X_poly = poly_features.fit_transform(X)\n",
    "X[:20]"
>>>>>>> 13e34790b339ec831705821c3e19741db0d3116b
   ]
  },
  {
   "cell_type": "code",
<<<<<<< HEAD
   "execution_count": 42,
=======
   "execution_count": 44,
>>>>>>> 13e34790b339ec831705821c3e19741db0d3116b
   "metadata": {},
   "outputs": [
    {
     "data": {
      "text/plain": [
<<<<<<< HEAD
       "array([-0.75275929,  0.56664654, -0.42654845,  0.32108831])"
      ]
     },
     "execution_count": 42,
=======
       "array([[ 1.76886782e+00,  3.12889337e+00],\n",
       "       [ 1.58225586e-02,  2.50353362e-04],\n",
       "       [ 4.61423308e-01,  2.12911469e-01],\n",
       "       [-4.48938371e-02,  2.01545661e-03],\n",
       "       [-1.82854207e+00,  3.34356611e+00],\n",
       "       [ 1.33471269e+00,  1.78145797e+00],\n",
       "       [-1.31536583e+00,  1.73018725e+00],\n",
       "       [-2.85410420e+00,  8.14591079e+00],\n",
       "       [ 8.72833775e-01,  7.61838800e-01],\n",
       "       [-1.93733592e+00,  3.75327048e+00],\n",
       "       [ 2.64275151e+00,  6.98413552e+00],\n",
       "       [ 2.72357146e+00,  7.41784151e+00],\n",
       "       [ 2.48918634e+00,  6.19604864e+00],\n",
       "       [-7.79047798e-01,  6.06915472e-01],\n",
       "       [-2.90726030e+00,  8.45216246e+00],\n",
       "       [ 2.56991138e+00,  6.60444448e+00],\n",
       "       [-4.30895110e-01,  1.85670596e-01],\n",
       "       [ 2.79992891e+00,  7.83960192e+00],\n",
       "       [ 2.78171986e+00,  7.73796539e+00],\n",
       "       [ 2.11805673e+00,  4.48616432e+00]])"
      ]
     },
     "execution_count": 44,
>>>>>>> 13e34790b339ec831705821c3e19741db0d3116b
     "metadata": {},
     "output_type": "execute_result"
    }
   ],
   "source": [
<<<<<<< HEAD
    "X_poly[0]"
=======
    "X_poly[:20]"
>>>>>>> 13e34790b339ec831705821c3e19741db0d3116b
   ]
  },
  {
   "cell_type": "code",
<<<<<<< HEAD
   "execution_count": 43,
=======
   "execution_count": 47,
>>>>>>> 13e34790b339ec831705821c3e19741db0d3116b
   "metadata": {},
   "outputs": [
    {
     "data": {
      "text/plain": [
<<<<<<< HEAD
       "(array([1.6680073]),\n",
       " array([[ 0.03378043,  0.68601582, -0.01833373, -0.0159345 ]]))"
      ]
     },
     "execution_count": 43,
=======
       "(array([1.99958228]), array([[1.04630034, 0.5015459 ]]))"
      ]
     },
     "execution_count": 47,
>>>>>>> 13e34790b339ec831705821c3e19741db0d3116b
     "metadata": {},
     "output_type": "execute_result"
    }
   ],
   "source": [
    "lin_reg = LinearRegression()\n",
    "lin_reg.fit(X_poly, y)\n",
<<<<<<< HEAD
    "lin_reg.intercept_,lin_reg.coef_"
   ]
  },
  {
   "cell_type": "code",
   "execution_count": 44,
   "metadata": {},
   "outputs": [
    {
     "data": {
      "image/png": "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\n",
      "text/plain": [
       "<Figure size 432x288 with 1 Axes>"
      ]
     },
     "metadata": {},
     "output_type": "display_data"
    }
   ],
   "source": [
    "X_new = np.linspace(-3,3,100).reshape(100,1)\n",
    "X_new_poly = poly_features.transform(X_new)\n",
    "y_new = lin_reg.predict(X_new_poly)\n",
    "plt.plot(X,y,'b.')\n",
    "plt.plot(X_new, y_new, \"r-\", linewidth=2, label=\"Predictions\")\n",
    "plt.xlabel('$x_1$', fontsize = 18)\n",
    "plt.ylabel('$y$', rotation = 0, fontsize = 18)\n",
    "plt.axis([-3, 3, 0, 10])\n",
    "plt.show()"
   ]
  },
  {
   "cell_type": "code",
   "execution_count": 45,
   "metadata": {},
   "outputs": [
    {
     "name": "stderr",
     "output_type": "stream",
     "text": [
      "/home/jacobmjjo/.local/lib/python3.6/site-packages/sklearn/linear_model/stochastic_gradient.py:117: DeprecationWarning: n_iter parameter is deprecated in 0.19 and will be removed in 0.21. Use max_iter and tol instead.\n",
      "  DeprecationWarning)\n",
      "/home/jacobmjjo/.local/lib/python3.6/site-packages/sklearn/utils/validation.py:578: DataConversionWarning: A column-vector y was passed when a 1d array was expected. Please change the shape of y to (n_samples, ), for example using ravel().\n",
      "  y = column_or_1d(y, warn=True)\n"
     ]
    },
    {
     "data": {
      "text/plain": [
       "SGDRegressor(alpha=0.0001, average=False, epsilon=0.1, eta0=0.1,\n",
       "       fit_intercept=True, l1_ratio=0.15, learning_rate='invscaling',\n",
       "       loss='squared_loss', max_iter=None, n_iter=50, penalty=None,\n",
       "       power_t=0.25, random_state=None, shuffle=True, tol=None, verbose=0,\n",
       "       warm_start=False)"
      ]
     },
     "execution_count": 45,
     "metadata": {},
     "output_type": "execute_result"
    }
   ],
   "source": [
    "sgd_reg = SGDRegressor(n_iter = 50, penalty=None, eta0=0.1)\n",
    "sgd_reg.fit(X,y)"
   ]
  },
  {
   "cell_type": "code",
   "execution_count": 46,
   "metadata": {},
   "outputs": [
    {
     "data": {
      "text/plain": [
       "(array([3.59513062]), array([-0.35892467]))"
      ]
     },
     "execution_count": 46,
     "metadata": {},
     "output_type": "execute_result"
    }
   ],
   "source": [
    "sgd_reg.intercept_,sgd_reg.coef_"
   ]
  },
  {
   "cell_type": "code",
   "execution_count": null,
   "metadata": {},
   "outputs": [],
   "source": []
  },
  {
   "cell_type": "code",
   "execution_count": null,
   "metadata": {},
   "outputs": [],
   "source": []
  },
  {
   "cell_type": "code",
   "execution_count": null,
   "metadata": {},
   "outputs": [],
   "source": []
  },
  {
   "cell_type": "code",
   "execution_count": null,
   "metadata": {},
   "outputs": [],
   "source": []
  },
  {
   "cell_type": "code",
   "execution_count": null,
   "metadata": {},
   "outputs": [],
   "source": []
  },
  {
   "cell_type": "code",
   "execution_count": null,
   "metadata": {},
   "outputs": [],
   "source": []
  },
  {
   "cell_type": "code",
   "execution_count": null,
   "metadata": {},
   "outputs": [],
   "source": []
  },
  {
=======
    "lin_reg.intercept_, lin_reg.coef_"
   ]
  },
  {
>>>>>>> 13e34790b339ec831705821c3e19741db0d3116b
   "cell_type": "code",
   "execution_count": null,
   "metadata": {},
   "outputs": [],
   "source": []
  }
 ],
 "metadata": {
  "kernelspec": {
   "display_name": "Python 3",
   "language": "python",
   "name": "python3"
  },
  "language_info": {
   "codemirror_mode": {
    "name": "ipython",
    "version": 3
   },
   "file_extension": ".py",
   "mimetype": "text/x-python",
   "name": "python",
   "nbconvert_exporter": "python",
   "pygments_lexer": "ipython3",
   "version": "3.6.5"
  }
 },
 "nbformat": 4,
 "nbformat_minor": 2
}
