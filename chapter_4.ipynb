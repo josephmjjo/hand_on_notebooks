{
 "cells": [
  {
   "cell_type": "markdown",
   "metadata": {},
   "source": [
    "## CHAPTER 4 \n",
    "\n",
    "# Training Models\n",
    "머신러닝에 대해 많이 알아 보았는데요 사실 training 알고리즘은 거의 블랙 박스 같아요 전에 해왔던 얼마나 많은 것들이 모르게 진행되어 갔는데 놀랐거에요 최적의 회귀 시스템이나 숫자 이미지 분별 스팸 구별 등을요. 정말 많은 상황들에서 우리는 자세히 알 필요도 없이 진행 했습니다.\n",
    "\n",
    "헌데 이해를 하게되면 빠르게 적합한 모델을 찾는데에 큰 도움을 줄겁니다. 올바른 트레이닝 알고리즘을 쓰면 하이퍼 파라미터 세팅도 좋고 작업도 좋으니깐요. 원리이해는 디버깅 문제해결과 실행에러 분석을 더 효과적으로 할겁니다. 마지막으로 뉴럴네트워크를 이해하고 만들고 실행하는데에도 큰 도움을 줍니다.\n",
    "\n",
    "이번 파트는 가장 단순한 모델 중 하나인 선형회귀를 배울 건데요 두가지 다른 방법으로 실행할 겁니다."
   ]
  },
  {
   "cell_type": "code",
   "execution_count": null,
   "metadata": {},
   "outputs": [],
   "source": []
  }
 ],
 "metadata": {
  "kernelspec": {
   "display_name": "Python 3",
   "language": "python",
   "name": "python3"
  },
  "language_info": {
   "codemirror_mode": {
    "name": "ipython",
    "version": 3
   },
   "file_extension": ".py",
   "mimetype": "text/x-python",
   "name": "python",
   "nbconvert_exporter": "python",
   "pygments_lexer": "ipython3",
   "version": "3.6.5"
  }
 },
 "nbformat": 4,
 "nbformat_minor": 2
}
